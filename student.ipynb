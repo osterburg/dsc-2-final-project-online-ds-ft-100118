{
 "cells": [
  {
   "cell_type": "markdown",
   "metadata": {},
   "source": [
    "## Module 2 Final Project Submission\n",
    "\n",
    "- Student name: Stephan Osterburg\n",
    "- Student pace: Full Time\n",
    "- Instructor name: Rafael Carrasco"
   ]
  },
  {
   "cell_type": "markdown",
   "metadata": {},
   "source": [
    "---\n",
    "\n",
    "- [Northwind Database](#section_id1)\n",
    "- [Approach](#section_id2)\n",
    "- [General Code](#section_id21)\n",
    "- [Does discount amount have a statistically significant effect on the quantity of products ordered?](#section_id3)\n",
    "    - [Research](#section_id31)\n",
    "    - [Hypothesis](#section_id32)\n",
    "    - [Test](#section_id33)\n",
    "    - [Conclusion](#section_id34)\n",
    "- [Does discount amount have a statistically significant effect on the quantity of a product in an order? If so, at what level(s) of discount?](#section_id4)\n",
    "    - [Research](#section_id41)\n",
    "    - [Hypothesis](#section_id42)\n",
    "    - [Test](#section_id43)\n",
    "    - [Conclusion](#section_id44)\n",
    "- [Do customer spend more money on imported or domestic goods?](#section_id5)\n",
    "    - [Research](#section_id51)\n",
    "    - [Hypothesis](#section_id52)\n",
    "    - [Test](#section_id53)\n",
    "    - [Conclusion](#section_id54)\n",
    "- [Does gender matter in order volume?](#section_id6)\n",
    "    - [Research](#section_id61)\n",
    "    - [Hypothesis](#section_id62)\n",
    "    - [Test](#section_id63)\n",
    "    - [Conclusion](#section_id64)"
   ]
  },
  {
   "cell_type": "markdown",
   "metadata": {},
   "source": [
    "---\n",
    "<a id='section_id1'></a>"
   ]
  },
  {
   "cell_type": "markdown",
   "metadata": {},
   "source": [
    "## Northwind Database\n",
    "\n",
    "The given Norhtface database is the basis for many tutorials Microsoft uses to introduce students to SQL and Microsoft Access. It is based on a fictitious company named Northwind Traders, which imports and exports specialty foods around the world.\n",
    "\n",
    "The database contains some sample tables, queries, reports, and other database features. It incorporates sales transactions between the company and its customers, along with purchasing details between the company and its vendors."
   ]
  },
  {
   "cell_type": "markdown",
   "metadata": {},
   "source": [
    "<img src=\"northwind_sample_database_erd.png\">"
   ]
  },
  {
   "cell_type": "markdown",
   "metadata": {},
   "source": [
    "---\n",
    "<a id='section_id2'></a>"
   ]
  },
  {
   "cell_type": "markdown",
   "metadata": {},
   "source": [
    "## Approach"
   ]
  },
  {
   "cell_type": "markdown",
   "metadata": {},
   "source": [
    "<img src=\"the-scientific-method.png\">"
   ]
  },
  {
   "cell_type": "markdown",
   "metadata": {},
   "source": [
    "Based on the given schema the following steps will be the guide for all questions asked.\n",
    "\n",
    "A. Reseach\n",
    "    * Google and see if there are answers to our question\n",
    "    * Explore the given data\n",
    "    * If needed, create custom dataframe\n",
    "\n",
    "B. Hypothesis\n",
    "    * Formulate a Null Hypothesis and a Alternatove Hypothesis\n",
    "    * Define Alpha and Beta\n",
    "    \n",
    "C. Test Hypothesis\n",
    "    * Gather data \n",
    "    * Define a well-structured experiment\n",
    "    * Calculate p-value and effect size\n",
    "    \n",
    "D. Draw Conclusion\n",
    "    * Evaluate your results\n",
    "    * Reject or fail to reject your null hypothesis\n",
    "    "
   ]
  },
  {
   "cell_type": "markdown",
   "metadata": {},
   "source": [
    "---\n",
    "<a id='section_id21'></a>"
   ]
  },
  {
   "cell_type": "markdown",
   "metadata": {},
   "source": [
    "## General Code\n",
    "\n",
    "#### Import necessary librararies"
   ]
  },
  {
   "cell_type": "code",
   "execution_count": 1,
   "metadata": {},
   "outputs": [],
   "source": [
    "import numpy as np\n",
    "import pandas as pd\n",
    "import sqlalchemy\n",
    "\n",
    "from sqlalchemy import create_engine\n",
    "from sqlalchemy import inspect\n",
    "\n",
    "import matplotlib.pyplot as plt\n",
    "import seaborn as sns\n",
    "plt.style.use('seaborn')"
   ]
  },
  {
   "cell_type": "code",
   "execution_count": 2,
   "metadata": {},
   "outputs": [],
   "source": [
    "# import local functions\n",
    "#\n",
    "# import functions as f"
   ]
  },
  {
   "cell_type": "code",
   "execution_count": 3,
   "metadata": {},
   "outputs": [],
   "source": [
    "# you can check out the the documentation for the rest of the autoreaload modes\n",
    "# by apending a question mark to %autoreload, like this:\n",
    "# %autoreload?\n",
    "#\n",
    "%load_ext autoreload\n",
    "%autoreload 2"
   ]
  },
  {
   "cell_type": "code",
   "execution_count": 4,
   "metadata": {},
   "outputs": [],
   "source": [
    "# don't print matching warnings\n",
    "import warnings\n",
    "warnings.filterwarnings('ignore') "
   ]
  },
  {
   "cell_type": "markdown",
   "metadata": {},
   "source": [
    "#### Load Northwind_small.sqlite"
   ]
  },
  {
   "cell_type": "code",
   "execution_count": 5,
   "metadata": {},
   "outputs": [],
   "source": [
    "# connect database\n",
    "engine = create_engine('sqlite:///Northwind_small.sqlite')\n",
    "\n",
    "# create inspector object\n",
    "inspector = inspect(engine)"
   ]
  },
  {
   "cell_type": "markdown",
   "metadata": {},
   "source": [
    "#### Helper function to print column names of a given table and it's datatypes"
   ]
  },
  {
   "cell_type": "code",
   "execution_count": 6,
   "metadata": {},
   "outputs": [],
   "source": [
    "def get_columns_info(table_name):\n",
    "    \"\"\"\n",
    "    Print column names of a given table and it's datatypes\n",
    "\n",
    "    :table_name: name of a table in the inspected database\n",
    "    :return: \n",
    "    \"\"\"\n",
    "    \n",
    "    cols_list = inspector.get_columns(table_name)\n",
    "    \n",
    "    print(\"Table Name: {}\".format(table_name))\n",
    "    print(\"\")\n",
    "    \n",
    "    for col in cols_list:\n",
    "        print(\"Name: {} \\t Type: {}\".format(col['name'], col['type']))"
   ]
  },
  {
   "cell_type": "markdown",
   "metadata": {},
   "source": [
    "---\n",
    "<a id='section_id3'></a>"
   ]
  },
  {
   "cell_type": "markdown",
   "metadata": {},
   "source": [
    "## 1. Question\n",
    "\n",
    "_Does discount amount have a statistically significant effect on the quantity of products ordered?_"
   ]
  },
  {
   "cell_type": "markdown",
   "metadata": {},
   "source": [
    "<a id='section_id31'></a>"
   ]
  },
  {
   "cell_type": "markdown",
   "metadata": {},
   "source": [
    "###  1-A. Research"
   ]
  },
  {
   "cell_type": "code",
   "execution_count": 7,
   "metadata": {
    "scrolled": false
   },
   "outputs": [
    {
     "name": "stdout",
     "output_type": "stream",
     "text": [
      "['Category', 'Customer', 'CustomerCustomerDemo', 'CustomerDemographic', 'Employee', 'EmployeeTerritory', 'Order', 'OrderDetail', 'Product', 'Region', 'Shipper', 'Supplier', 'Territory']\n"
     ]
    }
   ],
   "source": [
    "# print table names\n",
    "print(inspector.get_table_names())"
   ]
  },
  {
   "cell_type": "code",
   "execution_count": 8,
   "metadata": {},
   "outputs": [
    {
     "name": "stdout",
     "output_type": "stream",
     "text": [
      "Table Name: OrderDetail\n",
      "\n",
      "Name: Id \t Type: VARCHAR(8000)\n",
      "Name: OrderId \t Type: INTEGER\n",
      "Name: ProductId \t Type: INTEGER\n",
      "Name: UnitPrice \t Type: DECIMAL\n",
      "Name: Quantity \t Type: INTEGER\n",
      "Name: Discount \t Type: FLOAT\n"
     ]
    }
   ],
   "source": [
    "get_columns_info('OrderDetail')"
   ]
  },
  {
   "cell_type": "code",
   "execution_count": 9,
   "metadata": {},
   "outputs": [],
   "source": [
    "Q1_df = pd.read_sql_query('''SELECT * FROM OrderDetail;''', engine)"
   ]
  },
  {
   "cell_type": "code",
   "execution_count": 10,
   "metadata": {},
   "outputs": [
    {
     "name": "stdout",
     "output_type": "stream",
     "text": [
      "<class 'pandas.core.frame.DataFrame'>\n",
      "RangeIndex: 2155 entries, 0 to 2154\n",
      "Data columns (total 6 columns):\n",
      "Id           2155 non-null object\n",
      "OrderId      2155 non-null int64\n",
      "ProductId    2155 non-null int64\n",
      "UnitPrice    2155 non-null float64\n",
      "Quantity     2155 non-null int64\n",
      "Discount     2155 non-null float64\n",
      "dtypes: float64(2), int64(3), object(1)\n",
      "memory usage: 101.1+ KB\n"
     ]
    }
   ],
   "source": [
    "Q1_df.info()"
   ]
  },
  {
   "cell_type": "code",
   "execution_count": 11,
   "metadata": {},
   "outputs": [
    {
     "data": {
      "text/html": [
       "<div>\n",
       "<style scoped>\n",
       "    .dataframe tbody tr th:only-of-type {\n",
       "        vertical-align: middle;\n",
       "    }\n",
       "\n",
       "    .dataframe tbody tr th {\n",
       "        vertical-align: top;\n",
       "    }\n",
       "\n",
       "    .dataframe thead th {\n",
       "        text-align: right;\n",
       "    }\n",
       "</style>\n",
       "<table border=\"1\" class=\"dataframe\">\n",
       "  <thead>\n",
       "    <tr style=\"text-align: right;\">\n",
       "      <th></th>\n",
       "      <th>OrderId</th>\n",
       "      <th>ProductId</th>\n",
       "      <th>UnitPrice</th>\n",
       "      <th>Quantity</th>\n",
       "      <th>Discount</th>\n",
       "    </tr>\n",
       "  </thead>\n",
       "  <tbody>\n",
       "    <tr>\n",
       "      <th>count</th>\n",
       "      <td>2155.000000</td>\n",
       "      <td>2155.000000</td>\n",
       "      <td>2155.000000</td>\n",
       "      <td>2155.000000</td>\n",
       "      <td>2155.000000</td>\n",
       "    </tr>\n",
       "    <tr>\n",
       "      <th>mean</th>\n",
       "      <td>10659.375870</td>\n",
       "      <td>40.793039</td>\n",
       "      <td>26.218520</td>\n",
       "      <td>23.812993</td>\n",
       "      <td>0.056167</td>\n",
       "    </tr>\n",
       "    <tr>\n",
       "      <th>std</th>\n",
       "      <td>241.378032</td>\n",
       "      <td>22.159019</td>\n",
       "      <td>29.827418</td>\n",
       "      <td>19.022047</td>\n",
       "      <td>0.083450</td>\n",
       "    </tr>\n",
       "    <tr>\n",
       "      <th>min</th>\n",
       "      <td>10248.000000</td>\n",
       "      <td>1.000000</td>\n",
       "      <td>2.000000</td>\n",
       "      <td>1.000000</td>\n",
       "      <td>0.000000</td>\n",
       "    </tr>\n",
       "    <tr>\n",
       "      <th>25%</th>\n",
       "      <td>10451.000000</td>\n",
       "      <td>22.000000</td>\n",
       "      <td>12.000000</td>\n",
       "      <td>10.000000</td>\n",
       "      <td>0.000000</td>\n",
       "    </tr>\n",
       "    <tr>\n",
       "      <th>50%</th>\n",
       "      <td>10657.000000</td>\n",
       "      <td>41.000000</td>\n",
       "      <td>18.400000</td>\n",
       "      <td>20.000000</td>\n",
       "      <td>0.000000</td>\n",
       "    </tr>\n",
       "    <tr>\n",
       "      <th>75%</th>\n",
       "      <td>10862.500000</td>\n",
       "      <td>60.000000</td>\n",
       "      <td>32.000000</td>\n",
       "      <td>30.000000</td>\n",
       "      <td>0.100000</td>\n",
       "    </tr>\n",
       "    <tr>\n",
       "      <th>max</th>\n",
       "      <td>11077.000000</td>\n",
       "      <td>77.000000</td>\n",
       "      <td>263.500000</td>\n",
       "      <td>130.000000</td>\n",
       "      <td>0.250000</td>\n",
       "    </tr>\n",
       "  </tbody>\n",
       "</table>\n",
       "</div>"
      ],
      "text/plain": [
       "            OrderId    ProductId    UnitPrice     Quantity     Discount\n",
       "count   2155.000000  2155.000000  2155.000000  2155.000000  2155.000000\n",
       "mean   10659.375870    40.793039    26.218520    23.812993     0.056167\n",
       "std      241.378032    22.159019    29.827418    19.022047     0.083450\n",
       "min    10248.000000     1.000000     2.000000     1.000000     0.000000\n",
       "25%    10451.000000    22.000000    12.000000    10.000000     0.000000\n",
       "50%    10657.000000    41.000000    18.400000    20.000000     0.000000\n",
       "75%    10862.500000    60.000000    32.000000    30.000000     0.100000\n",
       "max    11077.000000    77.000000   263.500000   130.000000     0.250000"
      ]
     },
     "execution_count": 11,
     "metadata": {},
     "output_type": "execute_result"
    }
   ],
   "source": [
    "Q1_df.describe()"
   ]
  },
  {
   "cell_type": "code",
   "execution_count": 12,
   "metadata": {},
   "outputs": [
    {
     "data": {
      "text/html": [
       "<div>\n",
       "<style scoped>\n",
       "    .dataframe tbody tr th:only-of-type {\n",
       "        vertical-align: middle;\n",
       "    }\n",
       "\n",
       "    .dataframe tbody tr th {\n",
       "        vertical-align: top;\n",
       "    }\n",
       "\n",
       "    .dataframe thead th {\n",
       "        text-align: right;\n",
       "    }\n",
       "</style>\n",
       "<table border=\"1\" class=\"dataframe\">\n",
       "  <thead>\n",
       "    <tr style=\"text-align: right;\">\n",
       "      <th></th>\n",
       "      <th>Id</th>\n",
       "      <th>OrderId</th>\n",
       "      <th>ProductId</th>\n",
       "      <th>UnitPrice</th>\n",
       "      <th>Quantity</th>\n",
       "      <th>Discount</th>\n",
       "    </tr>\n",
       "  </thead>\n",
       "  <tbody>\n",
       "    <tr>\n",
       "      <th>0</th>\n",
       "      <td>10248/11</td>\n",
       "      <td>10248</td>\n",
       "      <td>11</td>\n",
       "      <td>14.0</td>\n",
       "      <td>12</td>\n",
       "      <td>0.0</td>\n",
       "    </tr>\n",
       "    <tr>\n",
       "      <th>1</th>\n",
       "      <td>10248/42</td>\n",
       "      <td>10248</td>\n",
       "      <td>42</td>\n",
       "      <td>9.8</td>\n",
       "      <td>10</td>\n",
       "      <td>0.0</td>\n",
       "    </tr>\n",
       "    <tr>\n",
       "      <th>2</th>\n",
       "      <td>10248/72</td>\n",
       "      <td>10248</td>\n",
       "      <td>72</td>\n",
       "      <td>34.8</td>\n",
       "      <td>5</td>\n",
       "      <td>0.0</td>\n",
       "    </tr>\n",
       "    <tr>\n",
       "      <th>3</th>\n",
       "      <td>10249/14</td>\n",
       "      <td>10249</td>\n",
       "      <td>14</td>\n",
       "      <td>18.6</td>\n",
       "      <td>9</td>\n",
       "      <td>0.0</td>\n",
       "    </tr>\n",
       "    <tr>\n",
       "      <th>4</th>\n",
       "      <td>10249/51</td>\n",
       "      <td>10249</td>\n",
       "      <td>51</td>\n",
       "      <td>42.4</td>\n",
       "      <td>40</td>\n",
       "      <td>0.0</td>\n",
       "    </tr>\n",
       "  </tbody>\n",
       "</table>\n",
       "</div>"
      ],
      "text/plain": [
       "         Id  OrderId  ProductId  UnitPrice  Quantity  Discount\n",
       "0  10248/11    10248         11       14.0        12       0.0\n",
       "1  10248/42    10248         42        9.8        10       0.0\n",
       "2  10248/72    10248         72       34.8         5       0.0\n",
       "3  10249/14    10249         14       18.6         9       0.0\n",
       "4  10249/51    10249         51       42.4        40       0.0"
      ]
     },
     "execution_count": 12,
     "metadata": {},
     "output_type": "execute_result"
    }
   ],
   "source": [
    "Q1_df.head()"
   ]
  },
  {
   "cell_type": "code",
   "execution_count": 13,
   "metadata": {},
   "outputs": [
    {
     "data": {
      "text/plain": [
       "0.00    1317\n",
       "0.05     185\n",
       "0.10     173\n",
       "0.20     161\n",
       "0.15     157\n",
       "0.25     154\n",
       "0.03       3\n",
       "0.02       2\n",
       "0.01       1\n",
       "0.04       1\n",
       "0.06       1\n",
       "Name: Discount, dtype: int64"
      ]
     },
     "execution_count": 13,
     "metadata": {},
     "output_type": "execute_result"
    }
   ],
   "source": [
    "Q1_df.Discount.value_counts()"
   ]
  },
  {
   "cell_type": "markdown",
   "metadata": {},
   "source": [
    "Lets drop the following discount values: 0.03, 0.02, 0.01, 0.04, 0.06"
   ]
  },
  {
   "cell_type": "code",
   "execution_count": 14,
   "metadata": {},
   "outputs": [
    {
     "data": {
      "text/plain": [
       "0.00    1317\n",
       "0.05     185\n",
       "0.10     173\n",
       "0.20     161\n",
       "0.15     157\n",
       "0.25     154\n",
       "Name: Discount, dtype: int64"
      ]
     },
     "execution_count": 14,
     "metadata": {},
     "output_type": "execute_result"
    }
   ],
   "source": [
    "test = (Q1_df.Discount == 0.00) | (Q1_df.Discount == 0.05) | (Q1_df.Discount == 0.10) | (Q1_df.Discount == 0.15) | (Q1_df.Discount == 0.20) | (Q1_df.Discount == 0.25)\n",
    "dataset = Q1_df.loc[test]\n",
    "dataset.Discount.value_counts()"
   ]
  },
  {
   "cell_type": "code",
   "execution_count": 15,
   "metadata": {},
   "outputs": [
    {
     "data": {
      "image/png": "[encoded data removed]",
      "text/plain": [
       "<Figure size 1152x864 with 6 Axes>"
      ]
     },
     "metadata": {
      "needs_background": "light"
     },
     "output_type": "display_data"
    }
   ],
   "source": [
    "dataset.hist('Quantity', by='Discount', figsize=(16, 12));"
   ]
  },
  {
   "cell_type": "code",
   "execution_count": 16,
   "metadata": {},
   "outputs": [
    {
     "data": {
      "image/png": "[encoded data removed]",
      "text/plain": [
       "<Figure size 1152x576 with 1 Axes>"
      ]
     },
     "metadata": {
      "needs_background": "light"
     },
     "output_type": "display_data"
    }
   ],
   "source": [
    "dataset.Discount.hist(figsize=(16, 8));"
   ]
  },
  {
   "cell_type": "markdown",
   "metadata": {},
   "source": [
    "Note that most customers don't get a discount"
   ]
  },
  {
   "cell_type": "markdown",
   "metadata": {},
   "source": [
    "<a id='section_id32'></a>"
   ]
  },
  {
   "cell_type": "markdown",
   "metadata": {},
   "source": [
    "### 1-B. Hypothesis\n",
    "_Remember our question: Does discount amount have a statistically significant effect on the quantity of products ordered_\n",
    "\n",
    "$H_0$: Average number of products in an order is the same across all discount values ($H_0: \\mu_1 = \\mu_2 = \\mu_3 =  ...  = \\mu_i ...  = \\mu_j$)\n",
    "\n",
    "$H_a$: Average number of products in an order is different in at least two or more discount values ($H_a: \\mu_i \\neq \\mu_j$)\n",
    "\n",
    "\n",
    "Significance level $\\alpha$ = 0.05"
   ]
  },
  {
   "cell_type": "markdown",
   "metadata": {},
   "source": [
    "<a id='section_id33'></a>"
   ]
  },
  {
   "cell_type": "markdown",
   "metadata": {},
   "source": [
    "### 1-C. Test Hypothesis"
   ]
  },
  {
   "cell_type": "markdown",
   "metadata": {},
   "source": [
    "Because we are testing groups to see if there is a difference between them, we can use ANOVA (Analysis of Variance) as it is a way to find out if our survey results are significant. We can use \"One-Way\" test in our Analysis of Variance to test two groups in order to see if there’s a difference between them.\n",
    "\n",
    "A \"One-Way\" ANOVA is used to compare two means from two independent (unrelated) groups using the F-distribution. The null hypothesis for the test is that the two means are equal. Therefore, a significant result means that the two means are unequal."
   ]
  },
  {
   "cell_type": "markdown",
   "metadata": {},
   "source": [
    "### Assumptions:\n",
    "\n",
    "The results of a one-way ANOVA can be considered reliable as long as the following assumptions are met:\n",
    "\n",
    "* The samples are **independent**.\n",
    "* Each sample is from a **normally distributed** population.\n",
    "* The population standard deviations of the groups are all equal, also known as **homoscedasticity**.\n",
    "\n",
    "\n",
    "If data are ordinal, a non-parametric alternative to this test should be used such as Kruskal–Wallis one-way ANOVA. If the variances are not known to be equal, a generalization of 2-sample Welch's t-test can be used.\n"
   ]
  },
  {
   "cell_type": "code",
   "execution_count": 17,
   "metadata": {},
   "outputs": [
    {
     "name": "stdout",
     "output_type": "stream",
     "text": [
      "                            OLS Regression Results                            \n",
      "==============================================================================\n",
      "Dep. Variable:               Quantity   R-squared:                       0.016\n",
      "Model:                            OLS   Adj. R-squared:                  0.016\n",
      "Method:                 Least Squares   F-statistic:                     35.49\n",
      "Date:                Sun, 16 Dec 2018   Prob (F-statistic):           2.99e-09\n",
      "Time:                        10:32:00   Log-Likelihood:                -9351.1\n",
      "No. Observations:                2147   AIC:                         1.871e+04\n",
      "Df Residuals:                    2145   BIC:                         1.872e+04\n",
      "Df Model:                           1                                         \n",
      "Covariance Type:            nonrobust                                         \n",
      "==============================================================================\n",
      "                 coef    std err          t      P>|t|      [0.025      0.975]\n",
      "------------------------------------------------------------------------------\n",
      "Intercept     22.2628      0.491     45.374      0.000      21.301      23.225\n",
      "Discount      29.0137      4.870      5.957      0.000      19.463      38.565\n",
      "==============================================================================\n",
      "Omnibus:                      793.193   Durbin-Watson:                   1.642\n",
      "Prob(Omnibus):                  0.000   Jarque-Bera (JB):             3134.102\n",
      "Skew:                           1.787   Prob(JB):                         0.00\n",
      "Kurtosis:                       7.718   Cond. No.                         12.0\n",
      "==============================================================================\n",
      "\n",
      "Warnings:\n",
      "[1] Standard Errors assume that the covariance matrix of the errors is correctly specified.\n"
     ]
    }
   ],
   "source": [
    "import statsmodels.api as sm\n",
    "from statsmodels.formula.api import ols\n",
    "\n",
    "formula = 'Quantity ~ Discount'\n",
    "lm = ols(formula, dataset).fit()\n",
    "print(lm.summary())"
   ]
  },
  {
   "cell_type": "code",
   "execution_count": 18,
   "metadata": {},
   "outputs": [
    {
     "name": "stdout",
     "output_type": "stream",
     "text": [
      "                 sum_sq      df          F        PR(>F)\n",
      "Discount   12621.238965     1.0  35.487951  2.991487e-09\n",
      "Residual  762866.181622  2145.0        NaN           NaN\n"
     ]
    }
   ],
   "source": [
    "table = sm.stats.anova_lm(lm, typ=2)\n",
    "print(table)"
   ]
  },
  {
   "cell_type": "markdown",
   "metadata": {},
   "source": [
    "As we can see by the F value the discount is influential. And based on our alpha value of 0.05 which indicates a rejection of our null hypothesis."
   ]
  },
  {
   "cell_type": "markdown",
   "metadata": {},
   "source": [
    "---\n",
    "The one-way ANOVA tests the null hypothesis that two or more groups have the **same** population mean."
   ]
  },
  {
   "cell_type": "code",
   "execution_count": 19,
   "metadata": {},
   "outputs": [
    {
     "name": "stdout",
     "output_type": "stream",
     "text": [
      "fstat: 9.798709497651332, p-value: 2.840680781326738e-09\n"
     ]
    }
   ],
   "source": [
    "from scipy import stats\n",
    "\n",
    "fstat, pval = stats.f_oneway(dataset['Quantity'][dataset['Discount'] == 0.00],\n",
    "                             dataset['Quantity'][dataset['Discount'] == 0.05],\n",
    "                             dataset['Quantity'][dataset['Discount'] == 0.10],\n",
    "                             dataset['Quantity'][dataset['Discount'] == 0.15],\n",
    "                             dataset['Quantity'][dataset['Discount'] == 0.20],\n",
    "                             dataset['Quantity'][dataset['Discount'] == 0.25])\n",
    "\n",
    "print(\"fstat: {}, p-value: {}\".format(fstat, pval))"
   ]
  },
  {
   "cell_type": "markdown",
   "metadata": {},
   "source": [
    "Checking if two or more groups have the **same** mean in order to pick the right approach to check our assumption."
   ]
  },
  {
   "cell_type": "code",
   "execution_count": 20,
   "metadata": {},
   "outputs": [
    {
     "name": "stdout",
     "output_type": "stream",
     "text": [
      "21.715261958997722\n",
      "28.01081081081081\n",
      "25.23699421965318\n",
      "28.38216560509554\n",
      "27.024844720496894\n",
      "28.24025974025974\n"
     ]
    }
   ],
   "source": [
    "d_list = [0.00, 0.05, 0.10, 0.15, 0.20, 0.25]\n",
    "for d in d_list:\n",
    "    mu = np.mean(dataset['Quantity'][dataset['Discount'] == d])\n",
    "    print(mu)"
   ]
  },
  {
   "cell_type": "markdown",
   "metadata": {},
   "source": [
    "### Check Assumptions\n",
    "Three groups have a similar mean, but **not** the same, we will use _scipy.stats.levene_ to tests the assumptions of the ANOVA model.\n",
    "\n",
    "ASSUMPTION: HOMOGENEITY OF VARIANCE\n",
    "\n",
    "The homogeneity of variance assumption should be checked for each level of the categorical variable. Therefore we can use the Levene’s test to test for equal variances between groups. The diagnostic output provided by statsmodels appears to only test it as the whole."
   ]
  },
  {
   "cell_type": "code",
   "execution_count": 21,
   "metadata": {},
   "outputs": [
    {
     "name": "stdout",
     "output_type": "stream",
     "text": [
      "stat: 2.9943951679841643, p-value: 0.010664285577385134\n"
     ]
    }
   ],
   "source": [
    "stat, pval = stats.levene(dataset['Quantity'][dataset['Discount'] == 0.00],\n",
    "                          dataset['Quantity'][dataset['Discount'] == 0.05],\n",
    "                          dataset['Quantity'][dataset['Discount'] == 0.10],\n",
    "                          dataset['Quantity'][dataset['Discount'] == 0.15],\n",
    "                          dataset['Quantity'][dataset['Discount'] == 0.20],\n",
    "                          dataset['Quantity'][dataset['Discount'] == 0.25])\n",
    "\n",
    "print(\"stat: {}, p-value: {}\".format(stat, pval))"
   ]
  },
  {
   "cell_type": "markdown",
   "metadata": {},
   "source": [
    "The test shows us that the groups don't have equal variances."
   ]
  },
  {
   "cell_type": "markdown",
   "metadata": {},
   "source": [
    "ASSUMPTION: NORMALITY\n",
    "\n",
    "The assumption of normality is tested on the residuals as a whole which is how the diagnostic information provided by statsmodels tests the residuals. We will perform here the Shapiro-Wilk test for normality."
   ]
  },
  {
   "cell_type": "code",
   "execution_count": 22,
   "metadata": {},
   "outputs": [
    {
     "name": "stdout",
     "output_type": "stream",
     "text": [
      "tstat: 0.8587859869003296, p-value: 3.1726938660624616e-40\n"
     ]
    }
   ],
   "source": [
    "tstat, pval = stats.shapiro(lm.resid_pearson)\n",
    "print(\"tstat: {}, p-value: {}\".format(tstat, pval))"
   ]
  },
  {
   "cell_type": "markdown",
   "metadata": {},
   "source": [
    "The result is significant which indicates that the **residuals are not normally distributed**. "
   ]
  },
  {
   "cell_type": "markdown",
   "metadata": {},
   "source": [
    "### Calculating Model Effect Size\n",
    "\n",
    "The effect size tells us how much of an impact the experiment will have in the real world. There are a few different effect sizes one can use: eta squared ($\\eta^2$), and omega squared ($\\omega^2$). Omega squared is considered a better measure of effect size than eta squared because it is unbiased in it’s calculation.\n",
    "\n",
    "_**Note 1:**_ for some reason R2 is called eta squared within the ANOVA framework. They are the same thing. R2 is a measure of how much variance is explained by the model and is calculated by taking the explained variance and dividing it by the total variance."
   ]
  },
  {
   "cell_type": "code",
   "execution_count": 23,
   "metadata": {},
   "outputs": [],
   "source": [
    "def anova_table(aov):\n",
    "    \"\"\"\n",
    "    Calculate the effect sizes, as well as the mean squares and updates the table\n",
    "\n",
    "    :aov: ANOVA table\n",
    "    :return: updated ANOVA table\n",
    "    \"\"\"\n",
    "    \n",
    "    # calculate a mean squared\n",
    "    aov['mean_sq'] = aov[:]['sum_sq']/aov[:]['df']\n",
    "    # calcualate eta squared\n",
    "    aov['eta_sq'] = aov[:-1]['sum_sq']/sum(aov['sum_sq'])\n",
    "    # calculate omega squared\n",
    "    aov['omega_sq'] = (aov[:-1]['sum_sq'] - (aov[:-1]['df'] * aov['mean_sq'][-1])) / (sum(aov['sum_sq']) + aov['mean_sq'][-1])\n",
    "    \n",
    "    cols = ['sum_sq', 'df', 'mean_sq', 'F', 'PR(>F)', 'eta_sq', 'omega_sq']\n",
    "    aov = aov[cols]\n",
    "    \n",
    "    return aov"
   ]
  },
  {
   "cell_type": "code",
   "execution_count": 24,
   "metadata": {},
   "outputs": [
    {
     "data": {
      "text/html": [
       "<div>\n",
       "<style scoped>\n",
       "    .dataframe tbody tr th:only-of-type {\n",
       "        vertical-align: middle;\n",
       "    }\n",
       "\n",
       "    .dataframe tbody tr th {\n",
       "        vertical-align: top;\n",
       "    }\n",
       "\n",
       "    .dataframe thead th {\n",
       "        text-align: right;\n",
       "    }\n",
       "</style>\n",
       "<table border=\"1\" class=\"dataframe\">\n",
       "  <thead>\n",
       "    <tr style=\"text-align: right;\">\n",
       "      <th></th>\n",
       "      <th>sum_sq</th>\n",
       "      <th>df</th>\n",
       "      <th>mean_sq</th>\n",
       "      <th>F</th>\n",
       "      <th>PR(&gt;F)</th>\n",
       "      <th>eta_sq</th>\n",
       "      <th>omega_sq</th>\n",
       "    </tr>\n",
       "  </thead>\n",
       "  <tbody>\n",
       "    <tr>\n",
       "      <th>Discount</th>\n",
       "      <td>12621.238965</td>\n",
       "      <td>1.0</td>\n",
       "      <td>12621.238965</td>\n",
       "      <td>35.487951</td>\n",
       "      <td>2.991487e-09</td>\n",
       "      <td>0.016275</td>\n",
       "      <td>0.015809</td>\n",
       "    </tr>\n",
       "    <tr>\n",
       "      <th>Residual</th>\n",
       "      <td>762866.181622</td>\n",
       "      <td>2145.0</td>\n",
       "      <td>355.648570</td>\n",
       "      <td>NaN</td>\n",
       "      <td>NaN</td>\n",
       "      <td>NaN</td>\n",
       "      <td>NaN</td>\n",
       "    </tr>\n",
       "  </tbody>\n",
       "</table>\n",
       "</div>"
      ],
      "text/plain": [
       "                 sum_sq      df       mean_sq          F        PR(>F)  \\\n",
       "Discount   12621.238965     1.0  12621.238965  35.487951  2.991487e-09   \n",
       "Residual  762866.181622  2145.0    355.648570        NaN           NaN   \n",
       "\n",
       "            eta_sq  omega_sq  \n",
       "Discount  0.016275  0.015809  \n",
       "Residual       NaN       NaN  "
      ]
     },
     "execution_count": 24,
     "metadata": {},
     "output_type": "execute_result"
    }
   ],
   "source": [
    "anova_table(table)"
   ]
  },
  {
   "cell_type": "markdown",
   "metadata": {},
   "source": [
    "The result shows that the **discount has only a small effect**."
   ]
  },
  {
   "cell_type": "markdown",
   "metadata": {},
   "source": [
    "### Post-Hoc Testing\n",
    "\n",
    "Now we need to test which groups differ. Deciding which groups to compare should be theory driven.\n",
    "\n",
    "Tukey's HSD Test compares more than 2 numerical datasets without increasing the probability of a false positive. Unlike ANOVA, Tukey tells us which datasets are significantly different. This method also controls for familywise error rate with a different method than Bonferroni, and is also considered conservative."
   ]
  },
  {
   "cell_type": "code",
   "execution_count": 25,
   "metadata": {},
   "outputs": [
    {
     "name": "stdout",
     "output_type": "stream",
     "text": [
      "Multiple Comparison of Means - Tukey HSD,FWER=0.05\n",
      "=============================================\n",
      "group1 group2 meandiff  lower   upper  reject\n",
      "---------------------------------------------\n",
      " 0.0    0.05   6.2955   2.0814 10.5097  True \n",
      " 0.0    0.1    3.5217  -0.8187  7.8622 False \n",
      " 0.0    0.15   6.6669   2.1352 11.1986  True \n",
      " 0.0    0.2    5.3096   0.8285  9.7907  True \n",
      " 0.0    0.25   6.525    1.954   11.096  True \n",
      " 0.05   0.1   -2.7738  -8.4504  2.9028 False \n",
      " 0.05   0.15   0.3714  -5.4528  6.1955 False \n",
      " 0.05   0.2    -0.986  -6.7708  4.7989 False \n",
      " 0.05   0.25   0.2294  -5.6253  6.0842 False \n",
      " 0.1    0.15   3.1452   -2.771  9.0613 False \n",
      " 0.1    0.2    1.7879  -4.0896  7.6653 False \n",
      " 0.1    0.25   3.0033   -2.943  8.9496 False \n",
      " 0.15   0.2   -1.3573  -7.3775  4.6628 False \n",
      " 0.15   0.25  -0.1419  -6.2292  5.9454 False \n",
      " 0.2    0.25   1.2154  -4.8343  7.2652 False \n",
      "---------------------------------------------\n"
     ]
    }
   ],
   "source": [
    "from statsmodels.stats.multicomp import pairwise_tukeyhsd\n",
    "\n",
    "tukey_result = pairwise_tukeyhsd(dataset['Quantity'], dataset['Discount'], 0.05)\n",
    "print(tukey_result)"
   ]
  },
  {
   "cell_type": "code",
   "execution_count": 26,
   "metadata": {},
   "outputs": [
    {
     "data": {
      "image/png": "[encoded data removed]",
      "text/plain": [
       "<Figure size 1152x864 with 6 Axes>"
      ]
     },
     "metadata": {
      "needs_background": "light"
     },
     "output_type": "display_data"
    }
   ],
   "source": [
    "# Plot a universal confidence interval of each group mean\n",
    "\n",
    "# Visiualize significant differences in a plot with one confidence interval per group instead of all \n",
    "# pairwise confidence intervals.\n",
    "\n",
    "# comparison_name – if provided, plot_intervals will color code all groups that are significantly \n",
    "# different from the comparison_name red, and will color code insignificant groups gray. Otherwise, \n",
    "# all intervals will just be plotted in black.\n",
    "\n",
    "cols = [0.00, 0.05, 0.10, 0.15, 0.20, 0.25]\n",
    "\n",
    "ncol = 2 # pick one dimension\n",
    "nrow = 3 # make sure enough subplots\n",
    "fig, axarr = plt.subplots(nrows=nrow, ncols=ncol, figsize=(24, 24)) # create the axes\n",
    "\n",
    "for i in range(len(cols)): # go over a linear list of data\n",
    "    ix = np.unravel_index(i, axarr.shape) # compute an appropriate index (1d or 2d)\n",
    "    \n",
    "    tukey_result.plot_simultaneous(comparison_name=cols[i],\n",
    "                                   figsize=(16, 12),\n",
    "                                   ylabel='Discount ' + str(cols[i]), \n",
    "                                   xlabel='Average Number of Products in Order',\n",
    "                                   ax=axarr[ix]);\n",
    "\n",
    "plt.tight_layout()\n",
    "plt.show();"
   ]
  },
  {
   "cell_type": "markdown",
   "metadata": {},
   "source": [
    "**Note:** the discount value 0.10 has an unwanted effect in the significant difference it seems."
   ]
  },
  {
   "cell_type": "code",
   "execution_count": 27,
   "metadata": {
    "scrolled": true
   },
   "outputs": [
    {
     "data": {
      "text/plain": [
       "Ttest_indResult(statistic=-4.418557901446638, pvalue=1.064949724167325e-05)"
      ]
     },
     "execution_count": 27,
     "metadata": {},
     "output_type": "execute_result"
    }
   ],
   "source": [
    "stats.ttest_ind(dataset['Quantity'][dataset['Discount'] == 0.00], dataset['Quantity'][dataset['Discount'] == 0.05])"
   ]
  },
  {
   "cell_type": "markdown",
   "metadata": {},
   "source": [
    "<a id='section_id34'></a>\n",
    "### 1-D. Conclusion"
   ]
  },
  {
   "cell_type": "markdown",
   "metadata": {},
   "source": [
    "Recall our question: _Does discount amount have a statistically significant effect on the quantity of a product in an order? If so, at what level(s) of discount?_\n",
    "\n",
    "We opted to use a \"One-Way\" ANOVA test with an alpha value of 0.05 (5%) to calculate the effect of the discount levels on ordered products.\n",
    "* A p-value of 2.991487e-09 shows us that there are **significant differences** between all discount values\n",
    "* Based on the p-value I reject the null hypothesis and except the alternative hypothesis"
   ]
  },
  {
   "cell_type": "markdown",
   "metadata": {},
   "source": [
    "---\n",
    "<a id='section_id4'></a>"
   ]
  },
  {
   "cell_type": "markdown",
   "metadata": {},
   "source": [
    "## 2. Question\n",
    "\n",
    "Does discount amount have a statistically significant effect on the quantity of a product in an order? If so, at what level(s) of discount?"
   ]
  },
  {
   "cell_type": "markdown",
   "metadata": {},
   "source": [
    "<a id='section_id41'></a>"
   ]
  },
  {
   "cell_type": "markdown",
   "metadata": {},
   "source": [
    "###  2-A. Research"
   ]
  },
  {
   "cell_type": "code",
   "execution_count": 28,
   "metadata": {},
   "outputs": [
    {
     "name": "stdout",
     "output_type": "stream",
     "text": [
      "['Category', 'Customer', 'CustomerCustomerDemo', 'CustomerDemographic', 'Employee', 'EmployeeTerritory', 'Order', 'OrderDetail', 'Product', 'Region', 'Shipper', 'Supplier', 'Territory']\n"
     ]
    }
   ],
   "source": [
    "# print table names\n",
    "print(inspector.get_table_names())"
   ]
  },
  {
   "cell_type": "code",
   "execution_count": 29,
   "metadata": {},
   "outputs": [
    {
     "name": "stdout",
     "output_type": "stream",
     "text": [
      "Table Name: OrderDetail\n",
      "\n",
      "Name: Id \t Type: VARCHAR(8000)\n",
      "Name: OrderId \t Type: INTEGER\n",
      "Name: ProductId \t Type: INTEGER\n",
      "Name: UnitPrice \t Type: DECIMAL\n",
      "Name: Quantity \t Type: INTEGER\n",
      "Name: Discount \t Type: FLOAT\n"
     ]
    }
   ],
   "source": [
    "get_columns_info('OrderDetail')"
   ]
  },
  {
   "cell_type": "code",
   "execution_count": 30,
   "metadata": {},
   "outputs": [
    {
     "name": "stdout",
     "output_type": "stream",
     "text": [
      "Table Name: Product\n",
      "\n",
      "Name: Id \t Type: INTEGER\n",
      "Name: ProductName \t Type: VARCHAR(8000)\n",
      "Name: SupplierId \t Type: INTEGER\n",
      "Name: CategoryId \t Type: INTEGER\n",
      "Name: QuantityPerUnit \t Type: VARCHAR(8000)\n",
      "Name: UnitPrice \t Type: DECIMAL\n",
      "Name: UnitsInStock \t Type: INTEGER\n",
      "Name: UnitsOnOrder \t Type: INTEGER\n",
      "Name: ReorderLevel \t Type: INTEGER\n",
      "Name: Discontinued \t Type: INTEGER\n"
     ]
    }
   ],
   "source": [
    "get_columns_info('Product')"
   ]
  },
  {
   "cell_type": "code",
   "execution_count": 31,
   "metadata": {
    "scrolled": true
   },
   "outputs": [
    {
     "name": "stdout",
     "output_type": "stream",
     "text": [
      "Table Name: Category\n",
      "\n",
      "Name: Id \t Type: INTEGER\n",
      "Name: CategoryName \t Type: VARCHAR(8000)\n",
      "Name: Description \t Type: VARCHAR(8000)\n"
     ]
    }
   ],
   "source": [
    "get_columns_info('Category')"
   ]
  },
  {
   "cell_type": "code",
   "execution_count": 32,
   "metadata": {},
   "outputs": [
    {
     "data": {
      "text/html": [
       "<div>\n",
       "<style scoped>\n",
       "    .dataframe tbody tr th:only-of-type {\n",
       "        vertical-align: middle;\n",
       "    }\n",
       "\n",
       "    .dataframe tbody tr th {\n",
       "        vertical-align: top;\n",
       "    }\n",
       "\n",
       "    .dataframe thead th {\n",
       "        text-align: right;\n",
       "    }\n",
       "</style>\n",
       "<table border=\"1\" class=\"dataframe\">\n",
       "  <thead>\n",
       "    <tr style=\"text-align: right;\">\n",
       "      <th></th>\n",
       "      <th>Id</th>\n",
       "      <th>CategoryName</th>\n",
       "      <th>Description</th>\n",
       "    </tr>\n",
       "  </thead>\n",
       "  <tbody>\n",
       "    <tr>\n",
       "      <th>0</th>\n",
       "      <td>1</td>\n",
       "      <td>Beverages</td>\n",
       "      <td>Soft drinks, coffees, teas, beers, and ales</td>\n",
       "    </tr>\n",
       "    <tr>\n",
       "      <th>1</th>\n",
       "      <td>2</td>\n",
       "      <td>Condiments</td>\n",
       "      <td>Sweet and savory sauces, relishes, spreads, an...</td>\n",
       "    </tr>\n",
       "    <tr>\n",
       "      <th>2</th>\n",
       "      <td>3</td>\n",
       "      <td>Confections</td>\n",
       "      <td>Desserts, candies, and sweet breads</td>\n",
       "    </tr>\n",
       "    <tr>\n",
       "      <th>3</th>\n",
       "      <td>4</td>\n",
       "      <td>Dairy Products</td>\n",
       "      <td>Cheeses</td>\n",
       "    </tr>\n",
       "    <tr>\n",
       "      <th>4</th>\n",
       "      <td>5</td>\n",
       "      <td>Grains/Cereals</td>\n",
       "      <td>Breads, crackers, pasta, and cereal</td>\n",
       "    </tr>\n",
       "    <tr>\n",
       "      <th>5</th>\n",
       "      <td>6</td>\n",
       "      <td>Meat/Poultry</td>\n",
       "      <td>Prepared meats</td>\n",
       "    </tr>\n",
       "    <tr>\n",
       "      <th>6</th>\n",
       "      <td>7</td>\n",
       "      <td>Produce</td>\n",
       "      <td>Dried fruit and bean curd</td>\n",
       "    </tr>\n",
       "    <tr>\n",
       "      <th>7</th>\n",
       "      <td>8</td>\n",
       "      <td>Seafood</td>\n",
       "      <td>Seaweed and fish</td>\n",
       "    </tr>\n",
       "  </tbody>\n",
       "</table>\n",
       "</div>"
      ],
      "text/plain": [
       "   Id    CategoryName                                        Description\n",
       "0   1       Beverages        Soft drinks, coffees, teas, beers, and ales\n",
       "1   2      Condiments  Sweet and savory sauces, relishes, spreads, an...\n",
       "2   3     Confections                Desserts, candies, and sweet breads\n",
       "3   4  Dairy Products                                            Cheeses\n",
       "4   5  Grains/Cereals                Breads, crackers, pasta, and cereal\n",
       "5   6    Meat/Poultry                                     Prepared meats\n",
       "6   7         Produce                          Dried fruit and bean curd\n",
       "7   8         Seafood                                   Seaweed and fish"
      ]
     },
     "execution_count": 32,
     "metadata": {},
     "output_type": "execute_result"
    }
   ],
   "source": [
    "dataset = pd.read_sql_query('''SELECT * FROM Category;''', engine)\n",
    "dataset"
   ]
  },
  {
   "cell_type": "markdown",
   "metadata": {},
   "source": [
    "#### Join 'OrderDetail', 'Product' and 'Category', at the same time assign meaningful names"
   ]
  },
  {
   "cell_type": "code",
   "execution_count": 33,
   "metadata": {},
   "outputs": [],
   "source": [
    "Q2_df = pd.read_sql_query('''SELECT OrderDetail.Id orderdetail_id,\n",
    "                                    OrderDetail.ProductId orderdetail_prodid,\n",
    "                                    OrderDetail.Quantity orderdetail_quantity,\n",
    "                                    OrderDetail.UnitPrice orderdetail_unitprice,\n",
    "                                    OrderDetail.Discount orderdetail_discount,\n",
    "                                    Product.Id product_id,\n",
    "                                    Category.Id category_id, \n",
    "                                    Category.CategoryName category_name\n",
    "                             FROM Category\n",
    "                             JOIN Product ON Category.Id = Product.CategoryId\n",
    "                             JOIN OrderDetail ON Product.Id = OrderDetail.ProductId;''', engine)\n"
   ]
  },
  {
   "cell_type": "code",
   "execution_count": 34,
   "metadata": {},
   "outputs": [
    {
     "name": "stdout",
     "output_type": "stream",
     "text": [
      "<class 'pandas.core.frame.DataFrame'>\n",
      "RangeIndex: 2155 entries, 0 to 2154\n",
      "Data columns (total 8 columns):\n",
      "orderdetail_id           2155 non-null object\n",
      "orderdetail_prodid       2155 non-null int64\n",
      "orderdetail_quantity     2155 non-null int64\n",
      "orderdetail_unitprice    2155 non-null float64\n",
      "orderdetail_discount     2155 non-null float64\n",
      "product_id               2155 non-null int64\n",
      "category_id              2155 non-null int64\n",
      "category_name            2155 non-null object\n",
      "dtypes: float64(2), int64(4), object(2)\n",
      "memory usage: 134.8+ KB\n"
     ]
    }
   ],
   "source": [
    "Q2_df.info()"
   ]
  },
  {
   "cell_type": "code",
   "execution_count": 35,
   "metadata": {},
   "outputs": [
    {
     "data": {
      "text/html": [
       "<div>\n",
       "<style scoped>\n",
       "    .dataframe tbody tr th:only-of-type {\n",
       "        vertical-align: middle;\n",
       "    }\n",
       "\n",
       "    .dataframe tbody tr th {\n",
       "        vertical-align: top;\n",
       "    }\n",
       "\n",
       "    .dataframe thead th {\n",
       "        text-align: right;\n",
       "    }\n",
       "</style>\n",
       "<table border=\"1\" class=\"dataframe\">\n",
       "  <thead>\n",
       "    <tr style=\"text-align: right;\">\n",
       "      <th></th>\n",
       "      <th>orderdetail_id</th>\n",
       "      <th>orderdetail_prodid</th>\n",
       "      <th>orderdetail_quantity</th>\n",
       "      <th>orderdetail_unitprice</th>\n",
       "      <th>orderdetail_discount</th>\n",
       "      <th>product_id</th>\n",
       "      <th>category_id</th>\n",
       "      <th>category_name</th>\n",
       "    </tr>\n",
       "  </thead>\n",
       "  <tbody>\n",
       "    <tr>\n",
       "      <th>0</th>\n",
       "      <td>10248/11</td>\n",
       "      <td>11</td>\n",
       "      <td>12</td>\n",
       "      <td>14.0</td>\n",
       "      <td>0.0</td>\n",
       "      <td>11</td>\n",
       "      <td>4</td>\n",
       "      <td>Dairy Products</td>\n",
       "    </tr>\n",
       "    <tr>\n",
       "      <th>1</th>\n",
       "      <td>10248/42</td>\n",
       "      <td>42</td>\n",
       "      <td>10</td>\n",
       "      <td>9.8</td>\n",
       "      <td>0.0</td>\n",
       "      <td>42</td>\n",
       "      <td>5</td>\n",
       "      <td>Grains/Cereals</td>\n",
       "    </tr>\n",
       "    <tr>\n",
       "      <th>2</th>\n",
       "      <td>10248/72</td>\n",
       "      <td>72</td>\n",
       "      <td>5</td>\n",
       "      <td>34.8</td>\n",
       "      <td>0.0</td>\n",
       "      <td>72</td>\n",
       "      <td>4</td>\n",
       "      <td>Dairy Products</td>\n",
       "    </tr>\n",
       "    <tr>\n",
       "      <th>3</th>\n",
       "      <td>10249/14</td>\n",
       "      <td>14</td>\n",
       "      <td>9</td>\n",
       "      <td>18.6</td>\n",
       "      <td>0.0</td>\n",
       "      <td>14</td>\n",
       "      <td>7</td>\n",
       "      <td>Produce</td>\n",
       "    </tr>\n",
       "    <tr>\n",
       "      <th>4</th>\n",
       "      <td>10249/51</td>\n",
       "      <td>51</td>\n",
       "      <td>40</td>\n",
       "      <td>42.4</td>\n",
       "      <td>0.0</td>\n",
       "      <td>51</td>\n",
       "      <td>7</td>\n",
       "      <td>Produce</td>\n",
       "    </tr>\n",
       "  </tbody>\n",
       "</table>\n",
       "</div>"
      ],
      "text/plain": [
       "  orderdetail_id  orderdetail_prodid  orderdetail_quantity  \\\n",
       "0       10248/11                  11                    12   \n",
       "1       10248/42                  42                    10   \n",
       "2       10248/72                  72                     5   \n",
       "3       10249/14                  14                     9   \n",
       "4       10249/51                  51                    40   \n",
       "\n",
       "   orderdetail_unitprice  orderdetail_discount  product_id  category_id  \\\n",
       "0                   14.0                   0.0          11            4   \n",
       "1                    9.8                   0.0          42            5   \n",
       "2                   34.8                   0.0          72            4   \n",
       "3                   18.6                   0.0          14            7   \n",
       "4                   42.4                   0.0          51            7   \n",
       "\n",
       "    category_name  \n",
       "0  Dairy Products  \n",
       "1  Grains/Cereals  \n",
       "2  Dairy Products  \n",
       "3         Produce  \n",
       "4         Produce  "
      ]
     },
     "execution_count": 35,
     "metadata": {},
     "output_type": "execute_result"
    }
   ],
   "source": [
    "Q2_df.head()"
   ]
  },
  {
   "cell_type": "code",
   "execution_count": 36,
   "metadata": {},
   "outputs": [
    {
     "name": "stdout",
     "output_type": "stream",
     "text": [
      "0    1317\n",
      "1     838\n",
      "Name: discount_bool, dtype: int64\n"
     ]
    }
   ],
   "source": [
    "Q2_df['discount_bool'] = np.where(Q2_df['orderdetail_discount'] > 0.0, 1, 0)\n",
    "print(Q2_df['discount_bool'].value_counts())"
   ]
  },
  {
   "cell_type": "code",
   "execution_count": 37,
   "metadata": {},
   "outputs": [],
   "source": [
    "Q2_df['price'] = Q2_df['orderdetail_unitprice'] * (1 - Q2_df['orderdetail_discount'])"
   ]
  },
  {
   "cell_type": "code",
   "execution_count": 38,
   "metadata": {},
   "outputs": [
    {
     "data": {
      "text/plain": [
       "6     42.4\n",
       "7     16.8\n",
       "8     16.8\n",
       "9     15.6\n",
       "11    64.8\n",
       "Name: orderdetail_unitprice, dtype: float64"
      ]
     },
     "execution_count": 38,
     "metadata": {},
     "output_type": "execute_result"
    }
   ],
   "source": [
    "d_df = Q2_df['orderdetail_unitprice'].where(Q2_df['discount_bool'] == 1).dropna()\n",
    "d_df.head()"
   ]
  },
  {
   "cell_type": "code",
   "execution_count": 39,
   "metadata": {},
   "outputs": [
    {
     "data": {
      "text/plain": [
       "0    14.0\n",
       "1     9.8\n",
       "2    34.8\n",
       "3    18.6\n",
       "4    42.4\n",
       "Name: orderdetail_unitprice, dtype: float64"
      ]
     },
     "execution_count": 39,
     "metadata": {},
     "output_type": "execute_result"
    }
   ],
   "source": [
    "nd_df = Q2_df['orderdetail_unitprice'].where(Q2_df['discount_bool'] == 0).dropna()\n",
    "nd_df.head()"
   ]
  },
  {
   "cell_type": "code",
   "execution_count": 40,
   "metadata": {},
   "outputs": [],
   "source": [
    "discount = d_df.tolist()\n",
    "no_discount = nd_df.tolist()"
   ]
  },
  {
   "cell_type": "markdown",
   "metadata": {},
   "source": [
    "<a id='section_id42'></a>"
   ]
  },
  {
   "cell_type": "markdown",
   "metadata": {},
   "source": [
    "### 2-B. Hypothesis\n",
    "(_Remember our question: Does discount amount have a statistically significant effect on the quantity of a product in an order? If so, at what level(s) of discount?_)\n",
    "\n",
    "$H_0$: $\\mu_{\\text{discounts}} \\leq \\mu_{\\text{no discounts}}$, the mean quantity sold in orders with discounts is less or equal to the mean quantity sold of orders without discounts.\n",
    "\n",
    "$H_a$: $\\mu_{\\text{discounts}} > \\mu_{\\text{no discounts}}$, the mean quantity sold in orders with discounts is higher than the mean quantity sold of orders without discounts.\n",
    "\n",
    "Significance level $\\alpha$ = 0.05"
   ]
  },
  {
   "cell_type": "markdown",
   "metadata": {},
   "source": [
    "<a id='section_id43'></a>"
   ]
  },
  {
   "cell_type": "markdown",
   "metadata": {},
   "source": [
    "### 2-C. Test Hypothesis"
   ]
  },
  {
   "cell_type": "markdown",
   "metadata": {},
   "source": [
    "From our research we created two distinct groups of data. To determine whether the mean difference between the two unrelated groups is statistically significantly different from zero, we will use a **Two Sample T-Test**.\n",
    "\n",
    "We will use the code from the course here, instead of ANOVA."
   ]
  },
  {
   "cell_type": "markdown",
   "metadata": {},
   "source": [
    "### Assumptions\n",
    "\n",
    "* The **independent variable is categorical** with at least two levels (groups).\n",
    "* The **dependent variable must be continuous** which is measured on an interval or ratio scale.\n",
    "* The **dependent variable should not contain any significant outliers**.\n",
    "* The **variances between the two groups are equal**."
   ]
  },
  {
   "cell_type": "code",
   "execution_count": 41,
   "metadata": {
    "scrolled": false
   },
   "outputs": [
    {
     "data": {
      "image/png": "[encoded data removed]",
      "text/plain": [
       "<Figure size 864x720 with 1 Axes>"
      ]
     },
     "metadata": {},
     "output_type": "display_data"
    }
   ],
   "source": [
    "sns.set(color_codes=True)\n",
    "sns.set(rc={'figure.figsize':(12,10)})\n",
    "sns.distplot(np.where(Q2_df['orderdetail_discount'] > 0.0), label='Discount') # Blue distribution\n",
    "sns.distplot(np.where(Q2_df['orderdetail_discount'] == 0.0), label='No Discount') # Green distribution\n",
    "plt.legend()\n",
    "plt.show();"
   ]
  },
  {
   "cell_type": "code",
   "execution_count": 42,
   "metadata": {},
   "outputs": [],
   "source": [
    "def variance(sample):\n",
    "    sample_mean = np.mean(sample)\n",
    "    return sum([(i - sample_mean)**2 for i in sample])"
   ]
  },
  {
   "cell_type": "code",
   "execution_count": 43,
   "metadata": {
    "scrolled": true
   },
   "outputs": [],
   "source": [
    "def sample_variance(sample1, sample2):\n",
    "    n_1, n_2 = len(sample1), len(sample2)\n",
    "    var_1, var_2 = variance(sample1), variance(sample2)\n",
    "    return (var_1 + var_2)/((n_1 + n_2)-2)"
   ]
  },
  {
   "cell_type": "code",
   "execution_count": 44,
   "metadata": {},
   "outputs": [
    {
     "name": "stdout",
     "output_type": "stream",
     "text": [
      "t-statistic: -0.09165300766237709\n"
     ]
    }
   ],
   "source": [
    "def twosample_tstatistic(expr, ctrl):\n",
    "    exp_mean, ctrl_mean = np.mean(expr), np.mean(ctrl)\n",
    "    samp_var = sample_variance(expr, ctrl)\n",
    "    n_e, n_c = len(expr), len(ctrl)\n",
    "    num = exp_mean - ctrl_mean\n",
    "    denom = np.sqrt(samp_var * ((1/n_e)+(1/n_c)))\n",
    "    return num / denom\n",
    "\n",
    "t_stat = twosample_tstatistic(no_discount, discount)\n",
    "print(\"t-statistic: {}\".format(t_stat))"
   ]
  },
  {
   "cell_type": "markdown",
   "metadata": {},
   "source": [
    "Using the data we have so far, we can visualize the t-statistic and calculate the area under curve to calculate our p-value."
   ]
  },
  {
   "cell_type": "code",
   "execution_count": 45,
   "metadata": {},
   "outputs": [
    {
     "data": {
      "image/png": "[encoded data removed]",
      "text/plain": [
       "<Figure size 576x360 with 1 Axes>"
      ]
     },
     "metadata": {},
     "output_type": "display_data"
    }
   ],
   "source": [
    "# Visualize p_value\n",
    "def visualize_t(t_stat, n_control, n_experimental):\n",
    "\n",
    "    # initialize a matplotlib \"figure\"\n",
    "    fig = plt.figure(figsize=(8,5))\n",
    "    ax = fig.gca()\n",
    "    \n",
    "    # generate points on the x axis between -4 and 4:\n",
    "    xs = np.linspace(-4, 4, 500)\n",
    "\n",
    "    # use stats.t.pdf to get values on the probability density function for the t-distribution\n",
    "    ys= stats.t.pdf(xs, (n_control+n_experimental-2), 0, 1)\n",
    "    ax.plot(xs, ys, linewidth=3, color='darkred')\n",
    "\n",
    "    ax.axvline(t_stat, color='black', linestyle='--', lw=2)\n",
    "    ax.axvline(-t_stat, color='black', linestyle='--', lw=2)\n",
    "\n",
    "    plt.show();\n",
    "\n",
    "num_d = len(discount)\n",
    "num_nd = len(no_discount)\n",
    "visualize_t(t_stat, num_d, num_nd)"
   ]
  },
  {
   "cell_type": "code",
   "execution_count": 46,
   "metadata": {},
   "outputs": [
    {
     "name": "stdout",
     "output_type": "stream",
     "text": [
      "p-value: 0.9269822570742561\n"
     ]
    }
   ],
   "source": [
    "pval = stats.t.sf(abs(t_stat), num_d + num_nd - 1) * 2\n",
    "print('p-value: {}'.format(pval))"
   ]
  },
  {
   "cell_type": "markdown",
   "metadata": {},
   "source": [
    "Calculates the T-test for the means of *two independent* samples of scores.\n",
    "\n",
    "This is a two-sided test for the null hypothesis that 2 independent samples\n",
    "have identical average (expected) values. This test assumes that the\n",
    "populations have identical variances by default."
   ]
  },
  {
   "cell_type": "code",
   "execution_count": 47,
   "metadata": {},
   "outputs": [
    {
     "data": {
      "text/plain": [
       "Ttest_indResult(statistic=0.09165300766237705, pvalue=0.9269822610324326)"
      ]
     },
     "execution_count": 47,
     "metadata": {},
     "output_type": "execute_result"
    }
   ],
   "source": [
    "stats.ttest_ind(discount, no_discount)"
   ]
  },
  {
   "cell_type": "markdown",
   "metadata": {},
   "source": [
    "The result is significant which indicates that the **residuals are not normally distributed**. "
   ]
  },
  {
   "cell_type": "markdown",
   "metadata": {},
   "source": [
    "### Calculating Model Effect Size\n",
    "\n",
    "* Communicate **practical significance** of results. An effect might be statistically significant, but does it matter in practical scenarios ?\n",
    "\n",
    "* Effect size calculation and interpretation allows you to draw **Meta-Analytical** conclusions. This allows you to group together a number of existing studies, calculate the meta-analytic effect size and get the best estimate of the tur effect size of the population. \n",
    "\n",
    "* Perform **Power Analysis** , which help determine the number of particicpants (sample size) that a study would require to achieve a certain probability of finding a true effect - if there is one. \n"
   ]
  },
  {
   "cell_type": "code",
   "execution_count": 48,
   "metadata": {},
   "outputs": [],
   "source": [
    "from statistics import mean, stdev\n",
    "from math import sqrt\n",
    "\n",
    "def cohens_d(x, y):\n",
    "    \"\"\" \n",
    "    Calculate Cohens D as a measure of effect size. \n",
    "    \"\"\"\n",
    "    \n",
    "    cohens_d = (mean(x) - mean(y)) / (sqrt((stdev(x)**2 + stdev(y)**2) / 2))\n",
    "    return cohens_d\n",
    " "
   ]
  },
  {
   "cell_type": "code",
   "execution_count": 49,
   "metadata": {},
   "outputs": [
    {
     "name": "stdout",
     "output_type": "stream",
     "text": [
      "0.004045478541614375\n"
     ]
    }
   ],
   "source": [
    "cohensD = cohens_d(discount, no_discount)\n",
    "print(cohensD)"
   ]
  },
  {
   "cell_type": "markdown",
   "metadata": {},
   "source": [
    "The Cohens $d$ result shows us that we have a **very small effect size**."
   ]
  },
  {
   "cell_type": "markdown",
   "metadata": {},
   "source": [
    "<a id='section_id34'></a>"
   ]
  },
  {
   "cell_type": "markdown",
   "metadata": {},
   "source": [
    "### 2-D. Conclusion"
   ]
  },
  {
   "cell_type": "markdown",
   "metadata": {},
   "source": [
    "Recall our question: _Does discount amount have a statistically significant effect on the quantity of a product in an order? If so, at what level(s) of discount?_\n",
    "\n",
    "We opted to use a Two sample T-Test with an alpha value of 0.05 (5%) to calculate the effect of the discount levels on ordered products.\n",
    "\n",
    "Based on the result from our test we **reject the null hypothesis and except the alternative hypothesis**."
   ]
  },
  {
   "cell_type": "markdown",
   "metadata": {},
   "source": [
    "---\n",
    "<a id='section_id5'></a>"
   ]
  },
  {
   "cell_type": "markdown",
   "metadata": {},
   "source": [
    "## 3. Question\n",
    "\n",
    "Do customer spend more money on imported or domestic goods?"
   ]
  },
  {
   "cell_type": "markdown",
   "metadata": {},
   "source": [
    "<a id='section_id51'></a>"
   ]
  },
  {
   "cell_type": "markdown",
   "metadata": {},
   "source": [
    "### 3-A. Research"
   ]
  },
  {
   "cell_type": "code",
   "execution_count": 50,
   "metadata": {},
   "outputs": [
    {
     "name": "stdout",
     "output_type": "stream",
     "text": [
      "['Category', 'Customer', 'CustomerCustomerDemo', 'CustomerDemographic', 'Employee', 'EmployeeTerritory', 'Order', 'OrderDetail', 'Product', 'Region', 'Shipper', 'Supplier', 'Territory']\n"
     ]
    }
   ],
   "source": [
    "print(inspector.get_table_names())"
   ]
  },
  {
   "cell_type": "code",
   "execution_count": 51,
   "metadata": {},
   "outputs": [
    {
     "name": "stdout",
     "output_type": "stream",
     "text": [
      "Table Name: Supplier\n",
      "\n",
      "Name: Id \t Type: INTEGER\n",
      "Name: CompanyName \t Type: VARCHAR(8000)\n",
      "Name: ContactName \t Type: VARCHAR(8000)\n",
      "Name: ContactTitle \t Type: VARCHAR(8000)\n",
      "Name: Address \t Type: VARCHAR(8000)\n",
      "Name: City \t Type: VARCHAR(8000)\n",
      "Name: Region \t Type: VARCHAR(8000)\n",
      "Name: PostalCode \t Type: VARCHAR(8000)\n",
      "Name: Country \t Type: VARCHAR(8000)\n",
      "Name: Phone \t Type: VARCHAR(8000)\n",
      "Name: Fax \t Type: VARCHAR(8000)\n",
      "Name: HomePage \t Type: VARCHAR(8000)\n"
     ]
    }
   ],
   "source": [
    "get_columns_info('Supplier')"
   ]
  },
  {
   "cell_type": "code",
   "execution_count": 52,
   "metadata": {},
   "outputs": [
    {
     "name": "stdout",
     "output_type": "stream",
     "text": [
      "Table Name: Customer\n",
      "\n",
      "Name: Id \t Type: VARCHAR(8000)\n",
      "Name: CompanyName \t Type: VARCHAR(8000)\n",
      "Name: ContactName \t Type: VARCHAR(8000)\n",
      "Name: ContactTitle \t Type: VARCHAR(8000)\n",
      "Name: Address \t Type: VARCHAR(8000)\n",
      "Name: City \t Type: VARCHAR(8000)\n",
      "Name: Region \t Type: VARCHAR(8000)\n",
      "Name: PostalCode \t Type: VARCHAR(8000)\n",
      "Name: Country \t Type: VARCHAR(8000)\n",
      "Name: Phone \t Type: VARCHAR(8000)\n",
      "Name: Fax \t Type: VARCHAR(8000)\n"
     ]
    }
   ],
   "source": [
    "get_columns_info('Customer')"
   ]
  },
  {
   "cell_type": "code",
   "execution_count": 53,
   "metadata": {},
   "outputs": [
    {
     "name": "stdout",
     "output_type": "stream",
     "text": [
      "Table Name: Order\n",
      "\n",
      "Name: Id \t Type: INTEGER\n",
      "Name: CustomerId \t Type: VARCHAR(8000)\n",
      "Name: EmployeeId \t Type: INTEGER\n",
      "Name: OrderDate \t Type: VARCHAR(8000)\n",
      "Name: RequiredDate \t Type: VARCHAR(8000)\n",
      "Name: ShippedDate \t Type: VARCHAR(8000)\n",
      "Name: ShipVia \t Type: INTEGER\n",
      "Name: Freight \t Type: DECIMAL\n",
      "Name: ShipName \t Type: VARCHAR(8000)\n",
      "Name: ShipAddress \t Type: VARCHAR(8000)\n",
      "Name: ShipCity \t Type: VARCHAR(8000)\n",
      "Name: ShipRegion \t Type: VARCHAR(8000)\n",
      "Name: ShipPostalCode \t Type: VARCHAR(8000)\n",
      "Name: ShipCountry \t Type: VARCHAR(8000)\n"
     ]
    }
   ],
   "source": [
    "get_columns_info('Order')"
   ]
  },
  {
   "cell_type": "markdown",
   "metadata": {},
   "source": [
    "#### Join 'Customer', 'Order', 'OrderDetail', 'Product' and 'Supplier', at the same time assign meaningful names"
   ]
  },
  {
   "cell_type": "code",
   "execution_count": 54,
   "metadata": {},
   "outputs": [],
   "source": [
    "Q3_df = pd.read_sql_query('''SELECT [Order].Id order_id,\n",
    "                                    [Order].CustomerId customer_id,\n",
    "                                    OrderDetail.ProductId product_id,\n",
    "                                    OrderDetail.Quantity order_quantity,\n",
    "                                    OrderDetail.UnitPrice unit_price,\n",
    "                                    Customer.Country customer_country,\n",
    "                                    Customer.Region customer_region,\n",
    "                                    Supplier.Country supplier_country,\n",
    "                                    Supplier.Region supplier_region\n",
    "                             FROM Supplier\n",
    "                             JOIN Product ON Supplier.Id = Product.SupplierId\n",
    "                             JOIN OrderDetail ON Product.Id = OrderDetail.ProductId\n",
    "                             JOIN [Order] ON OrderDetail.OrderId = [Order].Id\n",
    "                             JOIN Customer ON [Order].CustomerId = Customer.Id;''', engine)\n"
   ]
  },
  {
   "cell_type": "code",
   "execution_count": 55,
   "metadata": {},
   "outputs": [
    {
     "name": "stdout",
     "output_type": "stream",
     "text": [
      "<class 'pandas.core.frame.DataFrame'>\n",
      "RangeIndex: 2078 entries, 0 to 2077\n",
      "Data columns (total 9 columns):\n",
      "order_id            2078 non-null int64\n",
      "customer_id         2078 non-null object\n",
      "product_id          2078 non-null int64\n",
      "order_quantity      2078 non-null int64\n",
      "unit_price          2078 non-null float64\n",
      "customer_country    2078 non-null object\n",
      "customer_region     2078 non-null object\n",
      "supplier_country    2078 non-null object\n",
      "supplier_region     2078 non-null object\n",
      "dtypes: float64(1), int64(3), object(5)\n",
      "memory usage: 146.2+ KB\n"
     ]
    }
   ],
   "source": [
    "Q3_df.info()"
   ]
  },
  {
   "cell_type": "code",
   "execution_count": 56,
   "metadata": {},
   "outputs": [
    {
     "data": {
      "text/html": [
       "<div>\n",
       "<style scoped>\n",
       "    .dataframe tbody tr th:only-of-type {\n",
       "        vertical-align: middle;\n",
       "    }\n",
       "\n",
       "    .dataframe tbody tr th {\n",
       "        vertical-align: top;\n",
       "    }\n",
       "\n",
       "    .dataframe thead th {\n",
       "        text-align: right;\n",
       "    }\n",
       "</style>\n",
       "<table border=\"1\" class=\"dataframe\">\n",
       "  <thead>\n",
       "    <tr style=\"text-align: right;\">\n",
       "      <th></th>\n",
       "      <th>order_id</th>\n",
       "      <th>customer_id</th>\n",
       "      <th>product_id</th>\n",
       "      <th>order_quantity</th>\n",
       "      <th>unit_price</th>\n",
       "      <th>customer_country</th>\n",
       "      <th>customer_region</th>\n",
       "      <th>supplier_country</th>\n",
       "      <th>supplier_region</th>\n",
       "    </tr>\n",
       "  </thead>\n",
       "  <tbody>\n",
       "    <tr>\n",
       "      <th>0</th>\n",
       "      <td>10248</td>\n",
       "      <td>VINET</td>\n",
       "      <td>11</td>\n",
       "      <td>12</td>\n",
       "      <td>14.0</td>\n",
       "      <td>France</td>\n",
       "      <td>Western Europe</td>\n",
       "      <td>Spain</td>\n",
       "      <td>Southern Europe</td>\n",
       "    </tr>\n",
       "    <tr>\n",
       "      <th>1</th>\n",
       "      <td>10248</td>\n",
       "      <td>VINET</td>\n",
       "      <td>42</td>\n",
       "      <td>10</td>\n",
       "      <td>9.8</td>\n",
       "      <td>France</td>\n",
       "      <td>Western Europe</td>\n",
       "      <td>Singapore</td>\n",
       "      <td>South-East Asia</td>\n",
       "    </tr>\n",
       "    <tr>\n",
       "      <th>2</th>\n",
       "      <td>10248</td>\n",
       "      <td>VINET</td>\n",
       "      <td>72</td>\n",
       "      <td>5</td>\n",
       "      <td>34.8</td>\n",
       "      <td>France</td>\n",
       "      <td>Western Europe</td>\n",
       "      <td>Italy</td>\n",
       "      <td>Southern Europe</td>\n",
       "    </tr>\n",
       "    <tr>\n",
       "      <th>3</th>\n",
       "      <td>10249</td>\n",
       "      <td>TOMSP</td>\n",
       "      <td>14</td>\n",
       "      <td>9</td>\n",
       "      <td>18.6</td>\n",
       "      <td>Germany</td>\n",
       "      <td>Western Europe</td>\n",
       "      <td>Japan</td>\n",
       "      <td>Eastern Asia</td>\n",
       "    </tr>\n",
       "    <tr>\n",
       "      <th>4</th>\n",
       "      <td>10249</td>\n",
       "      <td>TOMSP</td>\n",
       "      <td>51</td>\n",
       "      <td>40</td>\n",
       "      <td>42.4</td>\n",
       "      <td>Germany</td>\n",
       "      <td>Western Europe</td>\n",
       "      <td>Australia</td>\n",
       "      <td>NSW</td>\n",
       "    </tr>\n",
       "  </tbody>\n",
       "</table>\n",
       "</div>"
      ],
      "text/plain": [
       "   order_id customer_id  product_id  order_quantity  unit_price  \\\n",
       "0     10248       VINET          11              12        14.0   \n",
       "1     10248       VINET          42              10         9.8   \n",
       "2     10248       VINET          72               5        34.8   \n",
       "3     10249       TOMSP          14               9        18.6   \n",
       "4     10249       TOMSP          51              40        42.4   \n",
       "\n",
       "  customer_country customer_region supplier_country  supplier_region  \n",
       "0           France  Western Europe            Spain  Southern Europe  \n",
       "1           France  Western Europe        Singapore  South-East Asia  \n",
       "2           France  Western Europe            Italy  Southern Europe  \n",
       "3          Germany  Western Europe            Japan     Eastern Asia  \n",
       "4          Germany  Western Europe        Australia              NSW  "
      ]
     },
     "execution_count": 56,
     "metadata": {},
     "output_type": "execute_result"
    }
   ],
   "source": [
    "Q3_df.head()"
   ]
  },
  {
   "cell_type": "code",
   "execution_count": 57,
   "metadata": {},
   "outputs": [
    {
     "data": {
      "text/plain": [
       "Western Europe     736\n",
       "North America      427\n",
       "South America      304\n",
       "British Isles      190\n",
       "Northern Europe    143\n",
       "Southern Europe    137\n",
       "Scandinavia         70\n",
       "Central America     55\n",
       "Eastern Europe      16\n",
       "Name: customer_region, dtype: int64"
      ]
     },
     "execution_count": 57,
     "metadata": {},
     "output_type": "execute_result"
    }
   ],
   "source": [
    "Q3_df.customer_region.value_counts()"
   ]
  },
  {
   "cell_type": "code",
   "execution_count": 58,
   "metadata": {},
   "outputs": [
    {
     "data": {
      "text/plain": [
       "Western Europe     430\n",
       "North America      402\n",
       "Southern Europe    220\n",
       "British Isles      211\n",
       "Scandinavia        166\n",
       "Victoria           160\n",
       "Northern Europe    150\n",
       "Eastern Asia       116\n",
       "NSW                 95\n",
       "South-East Asia     78\n",
       "South America       50\n",
       "Name: supplier_region, dtype: int64"
      ]
     },
     "execution_count": 58,
     "metadata": {},
     "output_type": "execute_result"
    }
   ],
   "source": [
    "Q3_df.supplier_region.value_counts()"
   ]
  },
  {
   "cell_type": "markdown",
   "metadata": {},
   "source": [
    "#### Technically, we should combine all of Europe regions into one because after all they are part of the EU."
   ]
  },
  {
   "cell_type": "code",
   "execution_count": 59,
   "metadata": {},
   "outputs": [
    {
     "data": {
      "text/html": [
       "<div>\n",
       "<style scoped>\n",
       "    .dataframe tbody tr th:only-of-type {\n",
       "        vertical-align: middle;\n",
       "    }\n",
       "\n",
       "    .dataframe tbody tr th {\n",
       "        vertical-align: top;\n",
       "    }\n",
       "\n",
       "    .dataframe thead th {\n",
       "        text-align: right;\n",
       "    }\n",
       "</style>\n",
       "<table border=\"1\" class=\"dataframe\">\n",
       "  <thead>\n",
       "    <tr style=\"text-align: right;\">\n",
       "      <th></th>\n",
       "      <th>order_id</th>\n",
       "      <th>customer_id</th>\n",
       "      <th>product_id</th>\n",
       "      <th>order_quantity</th>\n",
       "      <th>unit_price</th>\n",
       "      <th>customer_country</th>\n",
       "      <th>customer_region</th>\n",
       "      <th>supplier_country</th>\n",
       "      <th>supplier_region</th>\n",
       "    </tr>\n",
       "  </thead>\n",
       "  <tbody>\n",
       "    <tr>\n",
       "      <th>0</th>\n",
       "      <td>10248</td>\n",
       "      <td>VINET</td>\n",
       "      <td>11</td>\n",
       "      <td>12</td>\n",
       "      <td>14.0</td>\n",
       "      <td>France</td>\n",
       "      <td>EU</td>\n",
       "      <td>Spain</td>\n",
       "      <td>EU</td>\n",
       "    </tr>\n",
       "    <tr>\n",
       "      <th>1</th>\n",
       "      <td>10248</td>\n",
       "      <td>VINET</td>\n",
       "      <td>42</td>\n",
       "      <td>10</td>\n",
       "      <td>9.8</td>\n",
       "      <td>France</td>\n",
       "      <td>EU</td>\n",
       "      <td>Singapore</td>\n",
       "      <td>South-East Asia</td>\n",
       "    </tr>\n",
       "    <tr>\n",
       "      <th>2</th>\n",
       "      <td>10248</td>\n",
       "      <td>VINET</td>\n",
       "      <td>72</td>\n",
       "      <td>5</td>\n",
       "      <td>34.8</td>\n",
       "      <td>France</td>\n",
       "      <td>EU</td>\n",
       "      <td>Italy</td>\n",
       "      <td>EU</td>\n",
       "    </tr>\n",
       "    <tr>\n",
       "      <th>3</th>\n",
       "      <td>10249</td>\n",
       "      <td>TOMSP</td>\n",
       "      <td>14</td>\n",
       "      <td>9</td>\n",
       "      <td>18.6</td>\n",
       "      <td>Germany</td>\n",
       "      <td>EU</td>\n",
       "      <td>Japan</td>\n",
       "      <td>Eastern Asia</td>\n",
       "    </tr>\n",
       "    <tr>\n",
       "      <th>4</th>\n",
       "      <td>10249</td>\n",
       "      <td>TOMSP</td>\n",
       "      <td>51</td>\n",
       "      <td>40</td>\n",
       "      <td>42.4</td>\n",
       "      <td>Germany</td>\n",
       "      <td>EU</td>\n",
       "      <td>Australia</td>\n",
       "      <td>NSW</td>\n",
       "    </tr>\n",
       "  </tbody>\n",
       "</table>\n",
       "</div>"
      ],
      "text/plain": [
       "   order_id customer_id  product_id  order_quantity  unit_price  \\\n",
       "0     10248       VINET          11              12        14.0   \n",
       "1     10248       VINET          42              10         9.8   \n",
       "2     10248       VINET          72               5        34.8   \n",
       "3     10249       TOMSP          14               9        18.6   \n",
       "4     10249       TOMSP          51              40        42.4   \n",
       "\n",
       "  customer_country customer_region supplier_country  supplier_region  \n",
       "0           France              EU            Spain               EU  \n",
       "1           France              EU        Singapore  South-East Asia  \n",
       "2           France              EU            Italy               EU  \n",
       "3          Germany              EU            Japan     Eastern Asia  \n",
       "4          Germany              EU        Australia              NSW  "
      ]
     },
     "execution_count": 59,
     "metadata": {},
     "output_type": "execute_result"
    }
   ],
   "source": [
    "mapping = {'Western Europe':'EU','Southern Europe':'EU','Northern Europe':'EU','Eastern Europe':'EU', 'North America':'North America', 'South America':'South America', 'British Isles':'British Isles', 'Scandinavia':'Scandinavia', 'Central America':'Central America', 'NSW':'NSW', 'Victoria':'Victoria', 'Eastern Asia':'Eastern Asia', 'South-East Asia':'South-East Asia'}\n",
    "Q3_df['customer_region'] = Q3_df['customer_region'].map(mapping)\n",
    "Q3_df['supplier_region'] = Q3_df['supplier_region'].map(mapping)\n",
    "Q3_df.head()"
   ]
  },
  {
   "cell_type": "markdown",
   "metadata": {},
   "source": [
    "#### Creating \"imported\" feature"
   ]
  },
  {
   "cell_type": "code",
   "execution_count": 60,
   "metadata": {},
   "outputs": [
    {
     "data": {
      "text/plain": [
       "1    1560\n",
       "0     518\n",
       "Name: imported, dtype: int64"
      ]
     },
     "execution_count": 60,
     "metadata": {},
     "output_type": "execute_result"
    }
   ],
   "source": [
    "Q3_df['imported'] = np.where(Q3_df['customer_region'] == Q3_df['supplier_region'], 0, 1)\n",
    "Q3_df['imported'].value_counts()"
   ]
  },
  {
   "cell_type": "markdown",
   "metadata": {},
   "source": [
    "#### Define money spend per region"
   ]
  },
  {
   "cell_type": "code",
   "execution_count": 61,
   "metadata": {},
   "outputs": [
    {
     "data": {
      "text/html": [
       "<div>\n",
       "<style scoped>\n",
       "    .dataframe tbody tr th:only-of-type {\n",
       "        vertical-align: middle;\n",
       "    }\n",
       "\n",
       "    .dataframe tbody tr th {\n",
       "        vertical-align: top;\n",
       "    }\n",
       "\n",
       "    .dataframe thead th {\n",
       "        text-align: right;\n",
       "    }\n",
       "</style>\n",
       "<table border=\"1\" class=\"dataframe\">\n",
       "  <thead>\n",
       "    <tr style=\"text-align: right;\">\n",
       "      <th></th>\n",
       "      <th>order_id</th>\n",
       "      <th>customer_id</th>\n",
       "      <th>product_id</th>\n",
       "      <th>order_quantity</th>\n",
       "      <th>unit_price</th>\n",
       "      <th>customer_country</th>\n",
       "      <th>customer_region</th>\n",
       "      <th>supplier_country</th>\n",
       "      <th>supplier_region</th>\n",
       "      <th>imported</th>\n",
       "      <th>domestic_amount</th>\n",
       "      <th>foreign_amount</th>\n",
       "    </tr>\n",
       "  </thead>\n",
       "  <tbody>\n",
       "    <tr>\n",
       "      <th>0</th>\n",
       "      <td>10248</td>\n",
       "      <td>VINET</td>\n",
       "      <td>11</td>\n",
       "      <td>12</td>\n",
       "      <td>14.0</td>\n",
       "      <td>France</td>\n",
       "      <td>EU</td>\n",
       "      <td>Spain</td>\n",
       "      <td>EU</td>\n",
       "      <td>0</td>\n",
       "      <td>168.0</td>\n",
       "      <td>0.0</td>\n",
       "    </tr>\n",
       "    <tr>\n",
       "      <th>1</th>\n",
       "      <td>10248</td>\n",
       "      <td>VINET</td>\n",
       "      <td>42</td>\n",
       "      <td>10</td>\n",
       "      <td>9.8</td>\n",
       "      <td>France</td>\n",
       "      <td>EU</td>\n",
       "      <td>Singapore</td>\n",
       "      <td>South-East Asia</td>\n",
       "      <td>1</td>\n",
       "      <td>0.0</td>\n",
       "      <td>98.0</td>\n",
       "    </tr>\n",
       "    <tr>\n",
       "      <th>2</th>\n",
       "      <td>10248</td>\n",
       "      <td>VINET</td>\n",
       "      <td>72</td>\n",
       "      <td>5</td>\n",
       "      <td>34.8</td>\n",
       "      <td>France</td>\n",
       "      <td>EU</td>\n",
       "      <td>Italy</td>\n",
       "      <td>EU</td>\n",
       "      <td>0</td>\n",
       "      <td>174.0</td>\n",
       "      <td>0.0</td>\n",
       "    </tr>\n",
       "    <tr>\n",
       "      <th>3</th>\n",
       "      <td>10249</td>\n",
       "      <td>TOMSP</td>\n",
       "      <td>14</td>\n",
       "      <td>9</td>\n",
       "      <td>18.6</td>\n",
       "      <td>Germany</td>\n",
       "      <td>EU</td>\n",
       "      <td>Japan</td>\n",
       "      <td>Eastern Asia</td>\n",
       "      <td>1</td>\n",
       "      <td>0.0</td>\n",
       "      <td>167.4</td>\n",
       "    </tr>\n",
       "    <tr>\n",
       "      <th>4</th>\n",
       "      <td>10249</td>\n",
       "      <td>TOMSP</td>\n",
       "      <td>51</td>\n",
       "      <td>40</td>\n",
       "      <td>42.4</td>\n",
       "      <td>Germany</td>\n",
       "      <td>EU</td>\n",
       "      <td>Australia</td>\n",
       "      <td>NSW</td>\n",
       "      <td>1</td>\n",
       "      <td>0.0</td>\n",
       "      <td>1696.0</td>\n",
       "    </tr>\n",
       "  </tbody>\n",
       "</table>\n",
       "</div>"
      ],
      "text/plain": [
       "   order_id customer_id  product_id  order_quantity  unit_price  \\\n",
       "0     10248       VINET          11              12        14.0   \n",
       "1     10248       VINET          42              10         9.8   \n",
       "2     10248       VINET          72               5        34.8   \n",
       "3     10249       TOMSP          14               9        18.6   \n",
       "4     10249       TOMSP          51              40        42.4   \n",
       "\n",
       "  customer_country customer_region supplier_country  supplier_region  \\\n",
       "0           France              EU            Spain               EU   \n",
       "1           France              EU        Singapore  South-East Asia   \n",
       "2           France              EU            Italy               EU   \n",
       "3          Germany              EU            Japan     Eastern Asia   \n",
       "4          Germany              EU        Australia              NSW   \n",
       "\n",
       "   imported  domestic_amount  foreign_amount  \n",
       "0         0            168.0             0.0  \n",
       "1         1              0.0            98.0  \n",
       "2         0            174.0             0.0  \n",
       "3         1              0.0           167.4  \n",
       "4         1              0.0          1696.0  "
      ]
     },
     "execution_count": 61,
     "metadata": {},
     "output_type": "execute_result"
    }
   ],
   "source": [
    "Q3_df['domestic_amount'] = np.where(Q3_df.imported == 0, (Q3_df.order_quantity * Q3_df.unit_price), 0.0)\n",
    "Q3_df['foreign_amount'] = np.where(Q3_df.imported == 1, (Q3_df.order_quantity * Q3_df.unit_price), 0.0)\n",
    "Q3_df.head()"
   ]
  },
  {
   "cell_type": "markdown",
   "metadata": {},
   "source": [
    "#### Create a simplified dataset for testing"
   ]
  },
  {
   "cell_type": "code",
   "execution_count": 62,
   "metadata": {},
   "outputs": [],
   "source": [
    "dataset = Q3_df[['customer_id', 'domestic_amount', 'foreign_amount']]\n",
    "dataset = dataset.groupby('customer_id').sum()"
   ]
  },
  {
   "cell_type": "code",
   "execution_count": 63,
   "metadata": {},
   "outputs": [
    {
     "name": "stdout",
     "output_type": "stream",
     "text": [
      "<class 'pandas.core.frame.DataFrame'>\n",
      "Index: 85 entries, ALFKI to WOLZA\n",
      "Data columns (total 2 columns):\n",
      "domestic_amount    85 non-null float64\n",
      "foreign_amount     85 non-null float64\n",
      "dtypes: float64(2)\n",
      "memory usage: 2.0+ KB\n"
     ]
    }
   ],
   "source": [
    "dataset.info()"
   ]
  },
  {
   "cell_type": "code",
   "execution_count": 64,
   "metadata": {
    "scrolled": true
   },
   "outputs": [
    {
     "data": {
      "text/html": [
       "<div>\n",
       "<style scoped>\n",
       "    .dataframe tbody tr th:only-of-type {\n",
       "        vertical-align: middle;\n",
       "    }\n",
       "\n",
       "    .dataframe tbody tr th {\n",
       "        vertical-align: top;\n",
       "    }\n",
       "\n",
       "    .dataframe thead th {\n",
       "        text-align: right;\n",
       "    }\n",
       "</style>\n",
       "<table border=\"1\" class=\"dataframe\">\n",
       "  <thead>\n",
       "    <tr style=\"text-align: right;\">\n",
       "      <th></th>\n",
       "      <th>domestic_amount</th>\n",
       "      <th>foreign_amount</th>\n",
       "    </tr>\n",
       "    <tr>\n",
       "      <th>customer_id</th>\n",
       "      <th></th>\n",
       "      <th></th>\n",
       "    </tr>\n",
       "  </thead>\n",
       "  <tbody>\n",
       "    <tr>\n",
       "      <th>ALFKI</th>\n",
       "      <td>2558.2</td>\n",
       "      <td>2038.00</td>\n",
       "    </tr>\n",
       "    <tr>\n",
       "      <th>ANATR</th>\n",
       "      <td>0.0</td>\n",
       "      <td>1402.95</td>\n",
       "    </tr>\n",
       "    <tr>\n",
       "      <th>AROUT</th>\n",
       "      <td>4335.0</td>\n",
       "      <td>9471.50</td>\n",
       "    </tr>\n",
       "    <tr>\n",
       "      <th>BERGS</th>\n",
       "      <td>13974.1</td>\n",
       "      <td>12994.05</td>\n",
       "    </tr>\n",
       "    <tr>\n",
       "      <th>BLAUS</th>\n",
       "      <td>1445.8</td>\n",
       "      <td>1794.00</td>\n",
       "    </tr>\n",
       "  </tbody>\n",
       "</table>\n",
       "</div>"
      ],
      "text/plain": [
       "             domestic_amount  foreign_amount\n",
       "customer_id                                 \n",
       "ALFKI                 2558.2         2038.00\n",
       "ANATR                    0.0         1402.95\n",
       "AROUT                 4335.0         9471.50\n",
       "BERGS                13974.1        12994.05\n",
       "BLAUS                 1445.8         1794.00"
      ]
     },
     "execution_count": 64,
     "metadata": {},
     "output_type": "execute_result"
    }
   ],
   "source": [
    "dataset.head()"
   ]
  },
  {
   "cell_type": "code",
   "execution_count": 65,
   "metadata": {},
   "outputs": [
    {
     "name": "stdout",
     "output_type": "stream",
     "text": [
      "domestic: 407873.89, foreign: 903767.1499999999\n"
     ]
    }
   ],
   "source": [
    "d = dataset.domestic_amount.sum()\n",
    "f = dataset.foreign_amount.sum()\n",
    "print(\"domestic: {}, foreign: {}\".format(d, f))"
   ]
  },
  {
   "cell_type": "markdown",
   "metadata": {},
   "source": [
    "<a id='section_id52'></a>"
   ]
  },
  {
   "cell_type": "markdown",
   "metadata": {},
   "source": [
    "### 3-B. Hypothesis"
   ]
  },
  {
   "cell_type": "markdown",
   "metadata": {},
   "source": [
    "_Remember our question: Do customer spend more money on imported or domestic goods?_\n",
    "\n",
    "$H_0$: There is no difference in the amount spend between domestic and imported. ($\\mu_1 = \\mu_2$)\n",
    "\n",
    "$H_a$: There is a difference in the amount spend between domestic and imported. ($\\mu_1 \\not= \\mu_2$)\n",
    "\n",
    "Significance level  𝛼  = 0.05"
   ]
  },
  {
   "cell_type": "markdown",
   "metadata": {},
   "source": [
    "<a id='section_id53'></a>"
   ]
  },
  {
   "cell_type": "markdown",
   "metadata": {},
   "source": [
    "### 3-C. Test  Hypothesis"
   ]
  },
  {
   "cell_type": "markdown",
   "metadata": {},
   "source": [
    "Our hypothesis ask for a Two-Tail Test where we want to know if a parameter falls between (or outside) of a range of two values.\n",
    "\n",
    "ASSUMPTONS:\n",
    "\n",
    "1. Your **dependent variable** should be measured at the continuous level\n",
    "2. Your **two independent variables** should each consist of **two or more categorical, independent groups**.\n",
    "3. There should be **no significant outliers**.\n",
    "4. Your **dependent variable** should be **approximately normally distributed for each combination of the groups of the two independent variables**.\n",
    "5. There needs to be **homogeneity of variances for each combination of the groups of the two independent variables**."
   ]
  },
  {
   "cell_type": "markdown",
   "metadata": {},
   "source": [
    "##### Checking for outliers"
   ]
  },
  {
   "cell_type": "code",
   "execution_count": 66,
   "metadata": {},
   "outputs": [
    {
     "data": {
      "image/png": "[encoded data removed]",
      "text/plain": [
       "<Figure size 1152x576 with 2 Axes>"
      ]
     },
     "metadata": {},
     "output_type": "display_data"
    }
   ],
   "source": [
    "import math\n",
    "vars = ['domestic_amount', 'foreign_amount']\n",
    "\n",
    "# pick one dimension\n",
    "ncol = 2\n",
    "# make sure enough subplots\n",
    "nrow = math.floor((len(vars) + ncol - 1) / ncol)\n",
    "# create the axes\n",
    "fig, axarr = plt.subplots(nrows=nrow, ncols=ncol, figsize=(16, 8))\n",
    "\n",
    "# go over a linear list of data\n",
    "for i in range(len(vars)):\n",
    "    # compute an appropriate index (1d or 2d)\n",
    "    ix = np.unravel_index(i, axarr.shape)\n",
    "\n",
    "    feature_name = vars[i]\n",
    "\n",
    "    g = sns.boxplot(y=feature_name, data=dataset, width=0.8, orient='h', \n",
    "                    showmeans=True, fliersize=3, ax=axarr[ix])\n"
   ]
  },
  {
   "cell_type": "markdown",
   "metadata": {},
   "source": [
    "_NOTE_: There are some people who seem to like to shop a lot. \n",
    "\n",
    "One of the assumption is that there should be no significant outliers, we shall remove the most extremes."
   ]
  },
  {
   "cell_type": "code",
   "execution_count": 67,
   "metadata": {},
   "outputs": [
    {
     "name": "stdout",
     "output_type": "stream",
     "text": [
      "      domestic_amount  foreign_amount\n",
      "0.05            0.000          468.20\n",
      "0.95        17187.288        38667.59\n"
     ]
    }
   ],
   "source": [
    "low = .05\n",
    "high = .95\n",
    "quant_df = dataset.quantile([low, high])\n",
    "print(quant_df)"
   ]
  },
  {
   "cell_type": "code",
   "execution_count": 68,
   "metadata": {},
   "outputs": [
    {
     "name": "stdout",
     "output_type": "stream",
     "text": [
      "<class 'pandas.core.frame.DataFrame'>\n",
      "Index: 60 entries, ALFKI to WOLZA\n",
      "Data columns (total 2 columns):\n",
      "domestic_amount    60 non-null float64\n",
      "foreign_amount     60 non-null float64\n",
      "dtypes: float64(2)\n",
      "memory usage: 1.4+ KB\n"
     ]
    }
   ],
   "source": [
    "df_test = dataset.copy()\n",
    "df_test = df_test.apply(lambda x: x[(x > quant_df.loc[low, x.name]) & \n",
    "                                    (x < quant_df.loc[high, x.name])], axis=0)\n",
    "\n",
    "df_test.dropna(inplace=True)\n",
    "df_test.info()"
   ]
  },
  {
   "cell_type": "markdown",
   "metadata": {},
   "source": [
    "##### Checking for homogeneity of variances"
   ]
  },
  {
   "cell_type": "code",
   "execution_count": 69,
   "metadata": {},
   "outputs": [
    {
     "data": {
      "text/plain": [
       "LeveneResult(statistic=8.553676760881025, pvalue=0.004135926404914753)"
      ]
     },
     "execution_count": 69,
     "metadata": {},
     "output_type": "execute_result"
    }
   ],
   "source": [
    "stats.levene(df_test['domestic_amount'], df_test['foreign_amount'])"
   ]
  },
  {
   "cell_type": "markdown",
   "metadata": {},
   "source": [
    "Even though we removed our outliers, we still fail the homogeneity test. Therefore we will choose the Welch's t-test. Welch’s t-test is a nonparametric univariate test that tests for a significant difference between the mean of two unrelated groups. It is an alternative to the independent t-test when there is a violation in the assumption of equality of variances.\n",
    "\n",
    "We can test the assumption of normality using the _**stats.shapiro()**_."
   ]
  },
  {
   "cell_type": "code",
   "execution_count": 70,
   "metadata": {},
   "outputs": [
    {
     "name": "stdout",
     "output_type": "stream",
     "text": [
      "wtest: 0.5034222602844238, p-value: 1.8021345930840406e-15\n"
     ]
    }
   ],
   "source": [
    "wtest, pval = stats.shapiro(dataset['domestic_amount'])\n",
    "print('wtest: {}, p-value: {}'.format(wtest, pval))"
   ]
  },
  {
   "cell_type": "code",
   "execution_count": 71,
   "metadata": {},
   "outputs": [
    {
     "name": "stdout",
     "output_type": "stream",
     "text": [
      "wtest: 0.6163420677185059, p-value: 1.4305483880816539e-13\n"
     ]
    }
   ],
   "source": [
    "wtest, pval = stats.shapiro(dataset['foreign_amount'])\n",
    "print('wtest: {}, p-value: {}'.format(wtest, pval))"
   ]
  },
  {
   "cell_type": "markdown",
   "metadata": {},
   "source": [
    "_NOTE:_ All of the variables of interest violate the assumption of normality."
   ]
  },
  {
   "cell_type": "markdown",
   "metadata": {},
   "source": [
    "We will select the Welch’s t-test to analyze the data because Levene’s test for homogeneity of variances indicated unequal variances between groups.\n",
    "\n",
    "#### Welch's T-Test\n",
    "\n",
    "To conduct a Welch’s t-test, one needs to use the stats.ttest_ind() method while passing “False” in the “equal_var=” argument."
   ]
  },
  {
   "cell_type": "code",
   "execution_count": 72,
   "metadata": {},
   "outputs": [
    {
     "data": {
      "text/plain": [
       "Ttest_indResult(statistic=-2.9756718793666415, pvalue=0.0034331287209264576)"
      ]
     },
     "execution_count": 72,
     "metadata": {},
     "output_type": "execute_result"
    }
   ],
   "source": [
    "stats.ttest_ind(dataset['domestic_amount'], dataset['foreign_amount'], equal_var = False)"
   ]
  },
  {
   "cell_type": "markdown",
   "metadata": {},
   "source": [
    "The p-value is not highly significant, but still significant enough one can reject the null hypothesis in support of the alternative.\n",
    "\n",
    "Another piece of information we will need to report is the degrees of freedom (DoF). "
   ]
  },
  {
   "cell_type": "code",
   "execution_count": 73,
   "metadata": {},
   "outputs": [
    {
     "name": "stdout",
     "output_type": "stream",
     "text": [
      "Welch-Satterthwaite Degrees of Freedom= 143.1099\n"
     ]
    }
   ],
   "source": [
    "def welch_dof(x,y):\n",
    "        dof = (x.var()/x.size + y.var()/y.size)**2 / ((x.var()/x.size)**2 / (x.size-1) + (y.var()/y.size)**2 / (y.size-1))\n",
    "        print(f\"Welch-Satterthwaite Degrees of Freedom= {dof:.4f}\")\n",
    "        \n",
    "welch_dof(dataset['domestic_amount'], dataset['foreign_amount'])"
   ]
  },
  {
   "cell_type": "code",
   "execution_count": 74,
   "metadata": {},
   "outputs": [
    {
     "name": "stdout",
     "output_type": "stream",
     "text": [
      "\n",
      " Welch's t-test= -2.9757 \n",
      " p-value = 0.0034 \n",
      " Welch-Satterthwaite Degrees of Freedom= 143.1099\n"
     ]
    }
   ],
   "source": [
    "def welch_ttest(x, y): \n",
    "    ## Welch-Satterthwaite Degrees of Freedom ##\n",
    "    dof = (x.var()/x.size + y.var()/y.size)**2 / ((x.var()/x.size)**2 / (x.size-1) + (y.var()/y.size)**2 / (y.size-1))\n",
    "   \n",
    "    t, p = stats.ttest_ind(x, y, equal_var = False)\n",
    "    \n",
    "    print(\"\\n\",\n",
    "          f\"Welch's t-test= {t:.4f}\", \"\\n\",\n",
    "          f\"p-value = {p:.4f}\", \"\\n\",\n",
    "          f\"Welch-Satterthwaite Degrees of Freedom= {dof:.4f}\")\n",
    "\n",
    "welch_ttest(dataset['domestic_amount'], dataset['foreign_amount'])"
   ]
  },
  {
   "cell_type": "markdown",
   "metadata": {},
   "source": [
    "### Effect Size\n",
    "\n",
    "Cohen's d is typically used to represent the magnitude of differences between two (or more) groups on a given variable, with larger values representing a greater differentiation between the two groups on that variable."
   ]
  },
  {
   "cell_type": "code",
   "execution_count": 75,
   "metadata": {},
   "outputs": [],
   "source": [
    "from statistics import mean, stdev\n",
    "from math import sqrt\n",
    "\n",
    "def cohens_d(x, y):\n",
    "    \"\"\" \n",
    "    Calculate Cohens D as a measure of effect size. \n",
    "    \"\"\"\n",
    "    \n",
    "    cohens_d = (mean(x) - mean(y)) / (sqrt((stdev(x)**2 + stdev(y)**2) / 2))\n",
    "    print(cohens_d)\n",
    "    "
   ]
  },
  {
   "cell_type": "code",
   "execution_count": 76,
   "metadata": {},
   "outputs": [
    {
     "name": "stdout",
     "output_type": "stream",
     "text": [
      "-0.4564472299543739\n"
     ]
    }
   ],
   "source": [
    "cohens_d(dataset['domestic_amount'], dataset['foreign_amount'])"
   ]
  },
  {
   "cell_type": "markdown",
   "metadata": {},
   "source": [
    "The Cohens $d$ value shows us that we have a **medium effect size**."
   ]
  },
  {
   "cell_type": "markdown",
   "metadata": {},
   "source": [
    "<a id='section_id54'></a>"
   ]
  },
  {
   "cell_type": "markdown",
   "metadata": {},
   "source": [
    "### 3-D. Conclusion"
   ]
  },
  {
   "cell_type": "markdown",
   "metadata": {},
   "source": [
    "Recall our question: _Do customer spend more money on imported or domestic goods?_\n",
    "\n",
    "We opt-ed at the end to run Welch's T-Test based on the given research results. \n",
    "* The amount spend on domestic goods (407873.89) vs foreign goods (903767.15)\n",
    "* There is a **significant difference** between the amount of money spend on domestic vs foreign goods.\n",
    "* The p-value (0.0034) is not significant, one can reject the null hypothesis in support of the alternative."
   ]
  },
  {
   "cell_type": "markdown",
   "metadata": {},
   "source": [
    "---\n",
    "<a id='section_id6'></a>"
   ]
  },
  {
   "cell_type": "markdown",
   "metadata": {},
   "source": [
    "## 4. Question"
   ]
  },
  {
   "cell_type": "markdown",
   "metadata": {},
   "source": [
    "Would have been interesting to ask \"Does customer demographic effect sale?\", but the table 'CustomerDemographic' is empty. So, instead we will ask\n",
    "\n",
    "Does gender matter in order volume? "
   ]
  },
  {
   "cell_type": "markdown",
   "metadata": {},
   "source": [
    "<a id='section_id61'></a>"
   ]
  },
  {
   "cell_type": "markdown",
   "metadata": {},
   "source": [
    "## 4-A. Research"
   ]
  },
  {
   "cell_type": "code",
   "execution_count": 77,
   "metadata": {},
   "outputs": [
    {
     "name": "stdout",
     "output_type": "stream",
     "text": [
      "['Category', 'Customer', 'CustomerCustomerDemo', 'CustomerDemographic', 'Employee', 'EmployeeTerritory', 'Order', 'OrderDetail', 'Product', 'Region', 'Shipper', 'Supplier', 'Territory']\n"
     ]
    }
   ],
   "source": [
    "print(inspector.get_table_names())"
   ]
  },
  {
   "cell_type": "code",
   "execution_count": 78,
   "metadata": {},
   "outputs": [
    {
     "name": "stdout",
     "output_type": "stream",
     "text": [
      "Table Name: Customer\n",
      "\n",
      "Name: Id \t Type: VARCHAR(8000)\n",
      "Name: CompanyName \t Type: VARCHAR(8000)\n",
      "Name: ContactName \t Type: VARCHAR(8000)\n",
      "Name: ContactTitle \t Type: VARCHAR(8000)\n",
      "Name: Address \t Type: VARCHAR(8000)\n",
      "Name: City \t Type: VARCHAR(8000)\n",
      "Name: Region \t Type: VARCHAR(8000)\n",
      "Name: PostalCode \t Type: VARCHAR(8000)\n",
      "Name: Country \t Type: VARCHAR(8000)\n",
      "Name: Phone \t Type: VARCHAR(8000)\n",
      "Name: Fax \t Type: VARCHAR(8000)\n"
     ]
    }
   ],
   "source": [
    "get_columns_info('Customer')"
   ]
  },
  {
   "cell_type": "code",
   "execution_count": 79,
   "metadata": {},
   "outputs": [
    {
     "name": "stdout",
     "output_type": "stream",
     "text": [
      "Table Name: OrderDetail\n",
      "\n",
      "Name: Id \t Type: VARCHAR(8000)\n",
      "Name: OrderId \t Type: INTEGER\n",
      "Name: ProductId \t Type: INTEGER\n",
      "Name: UnitPrice \t Type: DECIMAL\n",
      "Name: Quantity \t Type: INTEGER\n",
      "Name: Discount \t Type: FLOAT\n"
     ]
    }
   ],
   "source": [
    "get_columns_info('OrderDetail')"
   ]
  },
  {
   "cell_type": "markdown",
   "metadata": {},
   "source": [
    "**JOIN 'Customer', 'Order', 'OrderDetail'**"
   ]
  },
  {
   "cell_type": "code",
   "execution_count": 80,
   "metadata": {},
   "outputs": [],
   "source": [
    "Q4_df = pd.read_sql_query('''SELECT [Order].Id order_id,\n",
    "                                    [Order].CustomerId customer_id,\n",
    "                                    OrderDetail.ProductId product_id,\n",
    "                                    OrderDetail.Quantity order_quantity,\n",
    "                                    OrderDetail.UnitPrice unit_price,\n",
    "                                    Customer.ContactName customer_name\n",
    "                             FROM OrderDetail\n",
    "                             JOIN [Order] ON OrderDetail.OrderId = [Order].Id\n",
    "                             JOIN Customer ON [Order].CustomerId = Customer.Id;''', engine)\n"
   ]
  },
  {
   "cell_type": "code",
   "execution_count": 81,
   "metadata": {
    "scrolled": true
   },
   "outputs": [
    {
     "data": {
      "text/html": [
       "<div>\n",
       "<style scoped>\n",
       "    .dataframe tbody tr th:only-of-type {\n",
       "        vertical-align: middle;\n",
       "    }\n",
       "\n",
       "    .dataframe tbody tr th {\n",
       "        vertical-align: top;\n",
       "    }\n",
       "\n",
       "    .dataframe thead th {\n",
       "        text-align: right;\n",
       "    }\n",
       "</style>\n",
       "<table border=\"1\" class=\"dataframe\">\n",
       "  <thead>\n",
       "    <tr style=\"text-align: right;\">\n",
       "      <th></th>\n",
       "      <th>order_id</th>\n",
       "      <th>customer_id</th>\n",
       "      <th>product_id</th>\n",
       "      <th>order_quantity</th>\n",
       "      <th>unit_price</th>\n",
       "      <th>customer_name</th>\n",
       "    </tr>\n",
       "  </thead>\n",
       "  <tbody>\n",
       "    <tr>\n",
       "      <th>0</th>\n",
       "      <td>10248</td>\n",
       "      <td>VINET</td>\n",
       "      <td>11</td>\n",
       "      <td>12</td>\n",
       "      <td>14.0</td>\n",
       "      <td>Paul Henriot</td>\n",
       "    </tr>\n",
       "    <tr>\n",
       "      <th>1</th>\n",
       "      <td>10248</td>\n",
       "      <td>VINET</td>\n",
       "      <td>42</td>\n",
       "      <td>10</td>\n",
       "      <td>9.8</td>\n",
       "      <td>Paul Henriot</td>\n",
       "    </tr>\n",
       "    <tr>\n",
       "      <th>2</th>\n",
       "      <td>10248</td>\n",
       "      <td>VINET</td>\n",
       "      <td>72</td>\n",
       "      <td>5</td>\n",
       "      <td>34.8</td>\n",
       "      <td>Paul Henriot</td>\n",
       "    </tr>\n",
       "    <tr>\n",
       "      <th>3</th>\n",
       "      <td>10249</td>\n",
       "      <td>TOMSP</td>\n",
       "      <td>14</td>\n",
       "      <td>9</td>\n",
       "      <td>18.6</td>\n",
       "      <td>Karin Josephs</td>\n",
       "    </tr>\n",
       "    <tr>\n",
       "      <th>4</th>\n",
       "      <td>10249</td>\n",
       "      <td>TOMSP</td>\n",
       "      <td>51</td>\n",
       "      <td>40</td>\n",
       "      <td>42.4</td>\n",
       "      <td>Karin Josephs</td>\n",
       "    </tr>\n",
       "  </tbody>\n",
       "</table>\n",
       "</div>"
      ],
      "text/plain": [
       "   order_id customer_id  product_id  order_quantity  unit_price  customer_name\n",
       "0     10248       VINET          11              12        14.0   Paul Henriot\n",
       "1     10248       VINET          42              10         9.8   Paul Henriot\n",
       "2     10248       VINET          72               5        34.8   Paul Henriot\n",
       "3     10249       TOMSP          14               9        18.6  Karin Josephs\n",
       "4     10249       TOMSP          51              40        42.4  Karin Josephs"
      ]
     },
     "execution_count": 81,
     "metadata": {},
     "output_type": "execute_result"
    }
   ],
   "source": [
    "Q4_df.head()"
   ]
  },
  {
   "cell_type": "markdown",
   "metadata": {},
   "source": [
    "Because we don't have a field which would help us whether or not the contact is female or male we will create our own definition."
   ]
  },
  {
   "cell_type": "code",
   "execution_count": 82,
   "metadata": {},
   "outputs": [],
   "source": [
    "customer_names = list(Q4_df['customer_name'].unique())"
   ]
  },
  {
   "cell_type": "code",
   "execution_count": 83,
   "metadata": {},
   "outputs": [
    {
     "name": "stdout",
     "output_type": "stream",
     "text": [
      "['Paul Henriot', 'Karin Josephs', 'Mario Pontes', 'Mary Saveley', 'Pascale Cartrain', 'Yang Wang', 'Michael Holz', 'Paula Parente', 'Carlos Hernández', 'Roland Mendel', 'Francisco Chang', 'Henriette Pfalzheim', 'Bernardo Batista', 'Paula Wilson', 'Maria Larsson', 'Frédérique Citeaux', 'Pirkko Koskitalo', 'Peter Franken', 'Manuel Pereira', 'Karl Jablonski', 'Art Braunschweiger', 'Horst Kloss', 'Giovanni Rovelli', 'Miguel Angel Paolino', 'Alexander Feuer', 'Christina Berglund', 'Renate Messner', 'Alejandra Camino', 'Carlos González', 'Janete Limeira', 'Maurizio Moroni', 'Victoria Ashworth', 'Pedro Afonso', 'Anabela Domingues', 'Patricia McKenna', 'Rita Müller', 'José Pedro Freyre', 'Rene Phillips', 'Fran Wilson', 'Ana Trujillo', 'Liz Nixon', 'Helen Bennett', 'Guillermo Fernández', 'Philip Cramer', 'Jose Pavarotti', 'Martín Sommer', 'Lino Rodriguez', 'Laurence Lebihan', 'Jean Fresnière', 'Isabel de Castro', 'Jytte Petersen', 'Aria Cruz', 'Annette Roulet', 'Georg Pipps', 'Thomas Hardy', 'Hari Kumar', 'Sven Ottlieb', 'Ann Devon', 'Eduardo Saavedra', 'Palle Ibsen', 'Zbyszek Piestrzeniewicz', 'Yoshi Latimer', 'Jonas Bergulfsen', 'Elizabeth Lincoln', 'Felipe Izquierdo', 'Martine Rancé', 'Paolo Accorti', 'André Fonseca', 'Elizabeth Brown', 'Sergio Gutiérrez', 'John Steel', 'Yoshi Tannamuri', 'Hanna Moos', 'Simon Crowther', 'Patricio Simpson', 'Howard Snyder', 'Catherine Dewey', 'Helvetius Nagy', 'Jaime Yorres', 'Matti Karttunen', 'Liu Wong', 'Maria Anders', 'Carine Schmitt', 'Dominique Perrier', 'Daniel Tonini']\n"
     ]
    }
   ],
   "source": [
    "print(customer_names)"
   ]
  },
  {
   "cell_type": "markdown",
   "metadata": {},
   "source": [
    "After extensive searching on the world wide web we have to define a female name list by hand. So the list is more or less subjective."
   ]
  },
  {
   "cell_type": "code",
   "execution_count": 84,
   "metadata": {},
   "outputs": [],
   "source": [
    "female_names = ['Karin Josephs', 'Mary Saveley', 'Yang Wang', 'Paula Parente', 'Henriette Pfalzheim', \n",
    "                'Paula Wilson', 'Maria Larsson', 'Pirkko Koskitalo', 'Christina Berglund', 'Renate Messner', \n",
    "                'Alejandra Camino', 'Janete Limeira', 'Victoria Ashworth', 'Anabela Domingues', 'Patricia McKenna', \n",
    "                'Rita Müller', 'Fran Wilson', 'Ana Trujillo', 'Liz Nixon', 'Helen Bennett', 'Isabel de Castro', \n",
    "                'Jytte Petersen', 'Aria Cruz', 'Annette Roulet', 'Ann Devon', 'Elizabeth Lincoln', 'Elizabeth Brown', \n",
    "                'Hanna Moos', 'Catherine Dewey', 'Liu Wong', 'Maria Anders', 'Carine Schmitt']"
   ]
  },
  {
   "cell_type": "code",
   "execution_count": 85,
   "metadata": {},
   "outputs": [
    {
     "data": {
      "text/html": [
       "<div>\n",
       "<style scoped>\n",
       "    .dataframe tbody tr th:only-of-type {\n",
       "        vertical-align: middle;\n",
       "    }\n",
       "\n",
       "    .dataframe tbody tr th {\n",
       "        vertical-align: top;\n",
       "    }\n",
       "\n",
       "    .dataframe thead th {\n",
       "        text-align: right;\n",
       "    }\n",
       "</style>\n",
       "<table border=\"1\" class=\"dataframe\">\n",
       "  <thead>\n",
       "    <tr style=\"text-align: right;\">\n",
       "      <th></th>\n",
       "      <th>order_id</th>\n",
       "      <th>customer_id</th>\n",
       "      <th>product_id</th>\n",
       "      <th>order_quantity</th>\n",
       "      <th>unit_price</th>\n",
       "      <th>customer_name</th>\n",
       "      <th>gender</th>\n",
       "    </tr>\n",
       "  </thead>\n",
       "  <tbody>\n",
       "    <tr>\n",
       "      <th>0</th>\n",
       "      <td>10248</td>\n",
       "      <td>VINET</td>\n",
       "      <td>11</td>\n",
       "      <td>12</td>\n",
       "      <td>14.0</td>\n",
       "      <td>Paul Henriot</td>\n",
       "      <td>male</td>\n",
       "    </tr>\n",
       "    <tr>\n",
       "      <th>1</th>\n",
       "      <td>10248</td>\n",
       "      <td>VINET</td>\n",
       "      <td>42</td>\n",
       "      <td>10</td>\n",
       "      <td>9.8</td>\n",
       "      <td>Paul Henriot</td>\n",
       "      <td>male</td>\n",
       "    </tr>\n",
       "    <tr>\n",
       "      <th>2</th>\n",
       "      <td>10248</td>\n",
       "      <td>VINET</td>\n",
       "      <td>72</td>\n",
       "      <td>5</td>\n",
       "      <td>34.8</td>\n",
       "      <td>Paul Henriot</td>\n",
       "      <td>male</td>\n",
       "    </tr>\n",
       "    <tr>\n",
       "      <th>3</th>\n",
       "      <td>10249</td>\n",
       "      <td>TOMSP</td>\n",
       "      <td>14</td>\n",
       "      <td>9</td>\n",
       "      <td>18.6</td>\n",
       "      <td>Karin Josephs</td>\n",
       "      <td>female</td>\n",
       "    </tr>\n",
       "    <tr>\n",
       "      <th>4</th>\n",
       "      <td>10249</td>\n",
       "      <td>TOMSP</td>\n",
       "      <td>51</td>\n",
       "      <td>40</td>\n",
       "      <td>42.4</td>\n",
       "      <td>Karin Josephs</td>\n",
       "      <td>female</td>\n",
       "    </tr>\n",
       "  </tbody>\n",
       "</table>\n",
       "</div>"
      ],
      "text/plain": [
       "   order_id customer_id  product_id  order_quantity  unit_price  \\\n",
       "0     10248       VINET          11              12        14.0   \n",
       "1     10248       VINET          42              10         9.8   \n",
       "2     10248       VINET          72               5        34.8   \n",
       "3     10249       TOMSP          14               9        18.6   \n",
       "4     10249       TOMSP          51              40        42.4   \n",
       "\n",
       "   customer_name  gender  \n",
       "0   Paul Henriot    male  \n",
       "1   Paul Henriot    male  \n",
       "2   Paul Henriot    male  \n",
       "3  Karin Josephs  female  \n",
       "4  Karin Josephs  female  "
      ]
     },
     "execution_count": 85,
     "metadata": {},
     "output_type": "execute_result"
    }
   ],
   "source": [
    "Q4_df['gender'] = np.where(Q4_df['customer_name'].isin(female_names), 'female', 'male')\n",
    "Q4_df.head()"
   ]
  },
  {
   "cell_type": "code",
   "execution_count": 86,
   "metadata": {},
   "outputs": [
    {
     "data": {
      "image/png": "[encoded data removed]",
      "text/plain": [
       "<Figure size 1152x576 with 1 Axes>"
      ]
     },
     "metadata": {},
     "output_type": "display_data"
    }
   ],
   "source": [
    "sns.set(color_codes=True)\n",
    "sns.set(rc={'figure.figsize':(16, 8)})\n",
    "sns.distplot(Q4_df['order_quantity'][Q4_df['gender'] == 'male'], label='Male'); # Blue distribution\n",
    "sns.distplot(Q4_df['order_quantity'][Q4_df['gender'] == 'female'], label='Female'); # Green distribution\n",
    "plt.legend()\n",
    "plt.show();"
   ]
  },
  {
   "cell_type": "markdown",
   "metadata": {},
   "source": [
    "<a id='section_id62'></a>"
   ]
  },
  {
   "cell_type": "markdown",
   "metadata": {},
   "source": [
    "## 4-B. Hypothesis"
   ]
  },
  {
   "cell_type": "markdown",
   "metadata": {},
   "source": [
    "Remember our question: _Does gender matter in order volume?_\n",
    "\n",
    "$H_0$: $\\mu_f = \\mu_m$, the mean of female customers is equal to the mean of male customers.\n",
    "\n",
    "$H_a$: $\\mu_f \\not= \\mu_m$, the mean of female customers is NOT equal to the mean of male customers.\n",
    "\n",
    "Significance level $\\alpha = 0.05$"
   ]
  },
  {
   "cell_type": "markdown",
   "metadata": {},
   "source": [
    "<a id='section_id63'></a>"
   ]
  },
  {
   "cell_type": "markdown",
   "metadata": {},
   "source": [
    "## 4-C. Test Hypothesis"
   ]
  },
  {
   "cell_type": "markdown",
   "metadata": {},
   "source": [
    "##### Test Approach\n",
    "\n",
    "A two-way ANOVA test is a statistical test used to determine the effect of two nominal predictor variables on a continuous outcome variable. A two-way ANOVA tests the effect of two independent variables on a dependent variable. A two-way ANOVA test analyzes the effect of the independent variables on the expected outcome along with their relationship to the outcome itself. "
   ]
  },
  {
   "cell_type": "markdown",
   "metadata": {},
   "source": [
    "Assumptions:\n",
    "    \n",
    "1. Your **dependent variable** should be measured at the continuous level\n",
    "2. Your **two independent variables** should each consist of **two or more categorical, independent groups**.\n",
    "3. There should be **no significant outliers**.\n",
    "4. Your **dependent variable** should be **approximately normally distributed for each combination of the groups of the two independent variables**.\n",
    "5. There needs to be **homogeneity of variances for each combination of the groups of the two independent variables**."
   ]
  },
  {
   "cell_type": "code",
   "execution_count": 87,
   "metadata": {},
   "outputs": [
    {
     "name": "stdout",
     "output_type": "stream",
     "text": [
      "Overall model F( 1, 2076) =  59.879, p =  0.0000\n"
     ]
    }
   ],
   "source": [
    "formula = 'order_quantity ~ C(gender)'\n",
    "model = ols(formula, Q4_df).fit()\n",
    "table = sm.stats.anova_lm(model, typ=2)\n",
    "\n",
    "print(f\"Overall model F({model.df_model: .0f},{model.df_resid: .0f}) = {model.fvalue: .3f}, p = {model.f_pvalue: .4f}\")"
   ]
  },
  {
   "cell_type": "code",
   "execution_count": 88,
   "metadata": {},
   "outputs": [
    {
     "data": {
      "text/html": [
       "<table class=\"simpletable\">\n",
       "<caption>OLS Regression Results</caption>\n",
       "<tr>\n",
       "  <th>Dep. Variable:</th>     <td>order_quantity</td>  <th>  R-squared:         </th> <td>   0.028</td> \n",
       "</tr>\n",
       "<tr>\n",
       "  <th>Model:</th>                   <td>OLS</td>       <th>  Adj. R-squared:    </th> <td>   0.028</td> \n",
       "</tr>\n",
       "<tr>\n",
       "  <th>Method:</th>             <td>Least Squares</td>  <th>  F-statistic:       </th> <td>   59.88</td> \n",
       "</tr>\n",
       "<tr>\n",
       "  <th>Date:</th>             <td>Sun, 16 Dec 2018</td> <th>  Prob (F-statistic):</th> <td>1.56e-14</td> \n",
       "</tr>\n",
       "<tr>\n",
       "  <th>Time:</th>                 <td>10:32:05</td>     <th>  Log-Likelihood:    </th> <td> -9053.5</td> \n",
       "</tr>\n",
       "<tr>\n",
       "  <th>No. Observations:</th>      <td>  2078</td>      <th>  AIC:               </th> <td>1.811e+04</td>\n",
       "</tr>\n",
       "<tr>\n",
       "  <th>Df Residuals:</th>          <td>  2076</td>      <th>  BIC:               </th> <td>1.812e+04</td>\n",
       "</tr>\n",
       "<tr>\n",
       "  <th>Df Model:</th>              <td>     1</td>      <th>                     </th>     <td> </td>    \n",
       "</tr>\n",
       "<tr>\n",
       "  <th>Covariance Type:</th>      <td>nonrobust</td>    <th>                     </th>     <td> </td>    \n",
       "</tr>\n",
       "</table>\n",
       "<table class=\"simpletable\">\n",
       "<tr>\n",
       "          <td></td>             <th>coef</th>     <th>std err</th>      <th>t</th>      <th>P>|t|</th>  <th>[0.025</th>    <th>0.975]</th>  \n",
       "</tr>\n",
       "<tr>\n",
       "  <th>Intercept</th>         <td>   19.6983</td> <td>    0.686</td> <td>   28.736</td> <td> 0.000</td> <td>   18.354</td> <td>   21.043</td>\n",
       "</tr>\n",
       "<tr>\n",
       "  <th>C(gender)[T.male]</th> <td>    6.6580</td> <td>    0.860</td> <td>    7.738</td> <td> 0.000</td> <td>    4.971</td> <td>    8.345</td>\n",
       "</tr>\n",
       "</table>\n",
       "<table class=\"simpletable\">\n",
       "<tr>\n",
       "  <th>Omnibus:</th>       <td>718.234</td> <th>  Durbin-Watson:     </th> <td>   1.649</td>\n",
       "</tr>\n",
       "<tr>\n",
       "  <th>Prob(Omnibus):</th> <td> 0.000</td>  <th>  Jarque-Bera (JB):  </th> <td>2574.061</td>\n",
       "</tr>\n",
       "<tr>\n",
       "  <th>Skew:</th>          <td> 1.699</td>  <th>  Prob(JB):          </th> <td>    0.00</td>\n",
       "</tr>\n",
       "<tr>\n",
       "  <th>Kurtosis:</th>      <td> 7.264</td>  <th>  Cond. No.          </th> <td>    3.07</td>\n",
       "</tr>\n",
       "</table><br/><br/>Warnings:<br/>[1] Standard Errors assume that the covariance matrix of the errors is correctly specified."
      ],
      "text/plain": [
       "<class 'statsmodels.iolib.summary.Summary'>\n",
       "\"\"\"\n",
       "                            OLS Regression Results                            \n",
       "==============================================================================\n",
       "Dep. Variable:         order_quantity   R-squared:                       0.028\n",
       "Model:                            OLS   Adj. R-squared:                  0.028\n",
       "Method:                 Least Squares   F-statistic:                     59.88\n",
       "Date:                Sun, 16 Dec 2018   Prob (F-statistic):           1.56e-14\n",
       "Time:                        10:32:05   Log-Likelihood:                -9053.5\n",
       "No. Observations:                2078   AIC:                         1.811e+04\n",
       "Df Residuals:                    2076   BIC:                         1.812e+04\n",
       "Df Model:                           1                                         \n",
       "Covariance Type:            nonrobust                                         \n",
       "=====================================================================================\n",
       "                        coef    std err          t      P>|t|      [0.025      0.975]\n",
       "-------------------------------------------------------------------------------------\n",
       "Intercept            19.6983      0.686     28.736      0.000      18.354      21.043\n",
       "C(gender)[T.male]     6.6580      0.860      7.738      0.000       4.971       8.345\n",
       "==============================================================================\n",
       "Omnibus:                      718.234   Durbin-Watson:                   1.649\n",
       "Prob(Omnibus):                  0.000   Jarque-Bera (JB):             2574.061\n",
       "Skew:                           1.699   Prob(JB):                         0.00\n",
       "Kurtosis:                       7.264   Cond. No.                         3.07\n",
       "==============================================================================\n",
       "\n",
       "Warnings:\n",
       "[1] Standard Errors assume that the covariance matrix of the errors is correctly specified.\n",
       "\"\"\""
      ]
     },
     "execution_count": 88,
     "metadata": {},
     "output_type": "execute_result"
    }
   ],
   "source": [
    "model.summary()"
   ]
  },
  {
   "cell_type": "code",
   "execution_count": 89,
   "metadata": {},
   "outputs": [
    {
     "data": {
      "text/html": [
       "<div>\n",
       "<style scoped>\n",
       "    .dataframe tbody tr th:only-of-type {\n",
       "        vertical-align: middle;\n",
       "    }\n",
       "\n",
       "    .dataframe tbody tr th {\n",
       "        vertical-align: top;\n",
       "    }\n",
       "\n",
       "    .dataframe thead th {\n",
       "        text-align: right;\n",
       "    }\n",
       "</style>\n",
       "<table border=\"1\" class=\"dataframe\">\n",
       "  <thead>\n",
       "    <tr style=\"text-align: right;\">\n",
       "      <th></th>\n",
       "      <th>sum_sq</th>\n",
       "      <th>df</th>\n",
       "      <th>mean_sq</th>\n",
       "      <th>F</th>\n",
       "      <th>PR(&gt;F)</th>\n",
       "      <th>eta_sq</th>\n",
       "      <th>omega_sq</th>\n",
       "    </tr>\n",
       "  </thead>\n",
       "  <tbody>\n",
       "    <tr>\n",
       "      <th>C(gender)</th>\n",
       "      <td>21356.705700</td>\n",
       "      <td>1.0</td>\n",
       "      <td>21356.705700</td>\n",
       "      <td>59.879226</td>\n",
       "      <td>1.562574e-14</td>\n",
       "      <td>0.028035</td>\n",
       "      <td>0.027554</td>\n",
       "    </tr>\n",
       "    <tr>\n",
       "      <th>Residual</th>\n",
       "      <td>740432.432413</td>\n",
       "      <td>2076.0</td>\n",
       "      <td>356.663021</td>\n",
       "      <td>NaN</td>\n",
       "      <td>NaN</td>\n",
       "      <td>NaN</td>\n",
       "      <td>NaN</td>\n",
       "    </tr>\n",
       "  </tbody>\n",
       "</table>\n",
       "</div>"
      ],
      "text/plain": [
       "                  sum_sq      df       mean_sq          F        PR(>F)  \\\n",
       "C(gender)   21356.705700     1.0  21356.705700  59.879226  1.562574e-14   \n",
       "Residual   740432.432413  2076.0    356.663021        NaN           NaN   \n",
       "\n",
       "             eta_sq  omega_sq  \n",
       "C(gender)  0.028035  0.027554  \n",
       "Residual        NaN       NaN  "
      ]
     },
     "execution_count": 89,
     "metadata": {},
     "output_type": "execute_result"
    }
   ],
   "source": [
    "anova_table(table)"
   ]
  },
  {
   "cell_type": "markdown",
   "metadata": {},
   "source": [
    "### Post-hoc Testing\n",
    "\n",
    "There are a few different methods of post-hoc testing to find a difference between groups of factors. I will show how to use Tukey’s HSD. We have to test for difference for each factor separately.\n",
    "\n",
    "The Tukey HSD post-hoc comparison test controls for type I error and maintains the familywise error rate at 0.05 (FWER= 0.05 top of the table). The group1 and group2 columns are the groups being compared, the meandiff column is the difference in means of the two groups being calculated as group2 – group1, the lower/upper columns are the lower/upper boundaries of the 95% confidence interval, and the reject column states whether or not the null hypothesis should be rejected."
   ]
  },
  {
   "cell_type": "code",
   "execution_count": 90,
   "metadata": {},
   "outputs": [
    {
     "name": "stdout",
     "output_type": "stream",
     "text": [
      "Multiple Comparison of Means - Tukey HSD,FWER=0.05\n",
      "===========================================\n",
      "group1 group2 meandiff lower  upper  reject\n",
      "-------------------------------------------\n",
      "female  male   6.658   4.9707 8.3454  True \n",
      "-------------------------------------------\n"
     ]
    }
   ],
   "source": [
    "from statsmodels.stats.multicomp import MultiComparison\n",
    "\n",
    "mc = MultiComparison(Q4_df['order_quantity'], Q4_df['gender'])\n",
    "mc_results = mc.tukeyhsd()\n",
    "print(mc_results)"
   ]
  },
  {
   "cell_type": "code",
   "execution_count": 91,
   "metadata": {},
   "outputs": [
    {
     "name": "stdout",
     "output_type": "stream",
     "text": [
      "Ttest_indResult(statistic = -7.738166843778007, pvalue = 1.562573840677636e-14\n"
     ]
    }
   ],
   "source": [
    "tstat, pval = stats.ttest_ind(Q4_df['order_quantity'][Q4_df['gender'] == 'female'], Q4_df['order_quantity'][Q4_df['gender'] == 'male'])\n",
    "print('Ttest_indResult(statistic = {}, pvalue = {}'.format(tstat, pval))"
   ]
  },
  {
   "cell_type": "markdown",
   "metadata": {},
   "source": [
    "<a id='section_id64'></a>"
   ]
  },
  {
   "cell_type": "markdown",
   "metadata": {},
   "source": [
    "## 4-D. Conclusion"
   ]
  },
  {
   "cell_type": "markdown",
   "metadata": {},
   "source": [
    "We run through a two-way ANOVA test with an $\\alpha = 0.05$ to find if gender has an effect on order volume:\n",
    "\n",
    "* There is a statistically significant different between the mean order_quantity for female and male.\n",
    "* Based on our findings we **reject the null hypothesis in support of the alternative**."
   ]
  },
  {
   "cell_type": "code",
   "execution_count": null,
   "metadata": {},
   "outputs": [],
   "source": []
  }
 ],
 "metadata": {
  "kernelspec": {
   "display_name": "Python 3",
   "language": "python",
   "name": "python3"
  },
  "language_info": {
   "codemirror_mode": {
    "name": "ipython",
    "version": 3
   },
   "file_extension": ".py",
   "mimetype": "text/x-python",
   "name": "python",
   "nbconvert_exporter": "python",
   "pygments_lexer": "ipython3",
   "version": "3.6.7"
  }
 },
 "nbformat": 4,
 "nbformat_minor": 2
}
